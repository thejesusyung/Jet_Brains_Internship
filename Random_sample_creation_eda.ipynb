{
 "cells": [
  {
   "cell_type": "code",
   "execution_count": 1,
   "id": "e90a38ad-adb5-4579-b72c-3cfbf69cb2ad",
   "metadata": {},
   "outputs": [
    {
     "name": "stdout",
     "output_type": "stream",
     "text": [
      "                                                   Context  \\\n",
      "2918921  /*\\n * Copyright 2010-2017 JetBrains s.r.o.\\n ...   \n",
      "2918922  /*\\n * Copyright 2010-2017 JetBrains s.r.o.\\n ...   \n",
      "2918923  /*\\n * Copyright 2010-2017 JetBrains s.r.o.\\n ...   \n",
      "2918924  /*\\n * Copyright 2010-2017 JetBrains s.r.o.\\n ...   \n",
      "2918925  /*\\n * Copyright 2010-2017 JetBrains s.r.o.\\n ...   \n",
      "\n",
      "                                                Completion  \n",
      "2918921  println(\"org.jetbrains.kotlin.testFramework.Te...  \n",
      "2918922                                                  }  \n",
      "2918923  instrumentation.addTransformer(MockApplication...  \n",
      "2918924                                                  }  \n",
      "2918925                                                  }  \n"
     ]
    }
   ],
   "source": [
    "import pandas as pd\n",
    "\n",
    "df = pd.read_csv('kotlin_dataset.csv')\n",
    "print(df.tail())"
   ]
  },
  {
   "cell_type": "code",
   "execution_count": 2,
   "id": "c0e7a26a-8e6b-49ea-8fe3-ba845086261a",
   "metadata": {},
   "outputs": [],
   "source": [
    "pd.set_option('display.max_colwidth', None)\n",
    "pd.set_option('display.max_columns', None)"
   ]
  },
  {
   "cell_type": "code",
   "execution_count": 3,
   "id": "c1460b16-3667-4550-8cfb-2c2826e34a85",
   "metadata": {},
   "outputs": [
    {
     "data": {
      "text/html": [
       "<div>\n",
       "<style scoped>\n",
       "    .dataframe tbody tr th:only-of-type {\n",
       "        vertical-align: middle;\n",
       "    }\n",
       "\n",
       "    .dataframe tbody tr th {\n",
       "        vertical-align: top;\n",
       "    }\n",
       "\n",
       "    .dataframe thead th {\n",
       "        text-align: right;\n",
       "    }\n",
       "</style>\n",
       "<table border=\"1\" class=\"dataframe\">\n",
       "  <thead>\n",
       "    <tr style=\"text-align: right;\">\n",
       "      <th></th>\n",
       "      <th>Context</th>\n",
       "      <th>Completion</th>\n",
       "    </tr>\n",
       "  </thead>\n",
       "  <tbody>\n",
       "    <tr>\n",
       "      <th>0</th>\n",
       "      <td>/*</td>\n",
       "      <td>* Copyright 2010-2015 JetBrains s.r.o.</td>\n",
       "    </tr>\n",
       "    <tr>\n",
       "      <th>1</th>\n",
       "      <td>/*\\n * Copyright 2010-2015 JetBrains s.r.o.</td>\n",
       "      <td>*</td>\n",
       "    </tr>\n",
       "    <tr>\n",
       "      <th>2</th>\n",
       "      <td>/*\\n * Copyright 2010-2015 JetBrains s.r.o.\\n *</td>\n",
       "      <td>* Licensed under the Apache License, Version 2.0 (the \"License\");</td>\n",
       "    </tr>\n",
       "    <tr>\n",
       "      <th>3</th>\n",
       "      <td>/*\\n * Copyright 2010-2015 JetBrains s.r.o.\\n *\\n * Licensed under the Apache License, Version 2.0 (the \"License\");</td>\n",
       "      <td>* you may not use this file except in compliance with the License.</td>\n",
       "    </tr>\n",
       "    <tr>\n",
       "      <th>4</th>\n",
       "      <td>/*\\n * Copyright 2010-2015 JetBrains s.r.o.\\n *\\n * Licensed under the Apache License, Version 2.0 (the \"License\");\\n * you may not use this file except in compliance with the License.</td>\n",
       "      <td>* You may obtain a copy of the License at</td>\n",
       "    </tr>\n",
       "  </tbody>\n",
       "</table>\n",
       "</div>"
      ],
      "text/plain": [
       "                                                                                                                                                                                    Context  \\\n",
       "0                                                                                                                                                                                        /*   \n",
       "1                                                                                                                                               /*\\n * Copyright 2010-2015 JetBrains s.r.o.   \n",
       "2                                                                                                                                           /*\\n * Copyright 2010-2015 JetBrains s.r.o.\\n *   \n",
       "3                                                                       /*\\n * Copyright 2010-2015 JetBrains s.r.o.\\n *\\n * Licensed under the Apache License, Version 2.0 (the \"License\");   \n",
       "4  /*\\n * Copyright 2010-2015 JetBrains s.r.o.\\n *\\n * Licensed under the Apache License, Version 2.0 (the \"License\");\\n * you may not use this file except in compliance with the License.   \n",
       "\n",
       "                                                           Completion  \n",
       "0                              * Copyright 2010-2015 JetBrains s.r.o.  \n",
       "1                                                                   *  \n",
       "2   * Licensed under the Apache License, Version 2.0 (the \"License\");  \n",
       "3  * you may not use this file except in compliance with the License.  \n",
       "4                           * You may obtain a copy of the License at  "
      ]
     },
     "execution_count": 3,
     "metadata": {},
     "output_type": "execute_result"
    }
   ],
   "source": [
    "df.head()"
   ]
  },
  {
   "cell_type": "code",
   "execution_count": 4,
   "id": "49f71b92-5aea-47b6-8ae0-f33961ae036d",
   "metadata": {},
   "outputs": [
    {
     "data": {
      "text/plain": [
       "Index(['Context', 'Completion'], dtype='object')"
      ]
     },
     "execution_count": 4,
     "metadata": {},
     "output_type": "execute_result"
    }
   ],
   "source": [
    "df.columns"
   ]
  },
  {
   "cell_type": "code",
   "execution_count": 6,
   "id": "dc266cd3-0d12-4908-91d2-f295bae9ab5d",
   "metadata": {},
   "outputs": [
    {
     "data": {
      "text/plain": [
       "1708.4864646815322"
      ]
     },
     "execution_count": 6,
     "metadata": {},
     "output_type": "execute_result"
    }
   ],
   "source": [
    "len(df) ** 0.5"
   ]
  },
  {
   "cell_type": "code",
   "execution_count": 9,
   "id": "d35561f9-d23c-42a8-bba1-b30afc6ac1ab",
   "metadata": {},
   "outputs": [
    {
     "data": {
      "text/html": [
       "<div>\n",
       "<style scoped>\n",
       "    .dataframe tbody tr th:only-of-type {\n",
       "        vertical-align: middle;\n",
       "    }\n",
       "\n",
       "    .dataframe tbody tr th {\n",
       "        vertical-align: top;\n",
       "    }\n",
       "\n",
       "    .dataframe thead th {\n",
       "        text-align: right;\n",
       "    }\n",
       "</style>\n",
       "<table border=\"1\" class=\"dataframe\">\n",
       "  <thead>\n",
       "    <tr style=\"text-align: right;\">\n",
       "      <th></th>\n",
       "      <th>Context</th>\n",
       "      <th>Completion</th>\n",
       "    </tr>\n",
       "  </thead>\n",
       "  <tbody>\n",
       "    <tr>\n",
       "      <th>999999</th>\n",
       "      <td>expectMinMaxWith(1U, 2U, ubyteArrayOf(1U, 2U), naturalOrder())\\n        expectMinMaxWith(1U, UByte.MAX_VALUE, ubyteArrayOf(1U, 2U, UByte.MAX_VALUE), naturalOrder())\\n\\n    }\\n\\n    @Test\\n    fun minMaxWithEmpty() {\\n        val empty = ubyteArrayOf()\\n        assertNull(empty.minWithOrNull(naturalOrder()))\\n        assertNull(empty.maxWithOrNull(naturalOrder()))\\n        assertFailsWith&lt;NoSuchElementException&gt; { empty.minWith(naturalOrder()) }\\n        assertFailsWith&lt;NoSuchElementException&gt; { empty.maxWith(naturalOrder()) }\\n    }\\n\\n\\n    private inline fun &lt;K : Comparable&lt;K&gt;&gt; expectMinMaxBy(min: UByte, max: UByte, elements: UByteArray, selector: (UByte) -&gt; K) {\\n        assertEquals(min, elements.minBy(selector))\\n        assertEquals(min, elements.minByOrNull(selector))\\n        assertEquals(max, elements.maxBy(selector))\\n        assertEquals(max, elements.maxByOrNull(selector))\\n    }\\n\\n    @Test\\n    fun minMaxBy() {\\n        expectMinMaxBy(1U, 1U, ubyteArrayOf(1U), { it })\\n        expectMinMaxBy(1U, 2U, ubyteArrayOf(1U, 2U), { it })\\n        expectMinMaxBy(1U, UByte.MAX_VALUE, ubyteArrayOf(1U, 2U, UByte.MAX_VALUE), { it })\\n\\n    }\\n\\n    @Test\\n    fun minMaxByEmpty() {\\n        val empty = ubyteArrayOf()\\n        assertNull(empty.minByOrNull { it.toString() })\\n        assertNull(empty.maxByOrNull { it.toString() })\\n        assertFailsWith&lt;NoSuchElementException&gt; { empty.minBy { it.toString() } }\\n        assertFailsWith&lt;NoSuchElementException&gt; { empty.maxBy { it.toString() } }                       \\n    }\\n\\n    @Test \\n    fun minBySelectorEvaluateOnce() {\\n        val source = ubyteArrayOf(1U, 2U, UByte.MAX_VALUE)\\n        var c = 0\\n        source.minBy { c++ }\\n        assertEquals(3, c)\\n        c = 0\\n        source.minByOrNull { c++ }\\n        assertEquals(3, c)\\n    }\\n\\n    @Test \\n    fun maxBySelectorEvaluateOnce() {\\n        val source = ubyteArrayOf(1U, 2U, UByte.MAX_VALUE)\\n        var c = 0\\n        source.maxBy { c++ }\\n        assertEquals(3, c)\\n        c = 0\\n        source.maxByOrNull { c++ }\\n        assertEquals(3, c)\\n    }\\n    \\n    \\n    private inline fun &lt;R : Comparable&lt;R&gt;&gt; expectMinMaxOf(min: R, max: R, elements: UByteArray, selector: (UByte) -&gt; R) {\\n        assertEquals(min, elements.minOf(selector))\\n        assertEquals(min, elements.minOfOrNull(selector))</td>\n",
       "      <td>assertEquals(max, elements.maxOf(selector))</td>\n",
       "    </tr>\n",
       "    <tr>\n",
       "      <th>1000000</th>\n",
       "      <td>expectMinMaxWith(1U, UByte.MAX_VALUE, ubyteArrayOf(1U, 2U, UByte.MAX_VALUE), naturalOrder())\\n\\n    }\\n\\n    @Test\\n    fun minMaxWithEmpty() {\\n        val empty = ubyteArrayOf()\\n        assertNull(empty.minWithOrNull(naturalOrder()))\\n        assertNull(empty.maxWithOrNull(naturalOrder()))\\n        assertFailsWith&lt;NoSuchElementException&gt; { empty.minWith(naturalOrder()) }\\n        assertFailsWith&lt;NoSuchElementException&gt; { empty.maxWith(naturalOrder()) }\\n    }\\n\\n\\n    private inline fun &lt;K : Comparable&lt;K&gt;&gt; expectMinMaxBy(min: UByte, max: UByte, elements: UByteArray, selector: (UByte) -&gt; K) {\\n        assertEquals(min, elements.minBy(selector))\\n        assertEquals(min, elements.minByOrNull(selector))\\n        assertEquals(max, elements.maxBy(selector))\\n        assertEquals(max, elements.maxByOrNull(selector))\\n    }\\n\\n    @Test\\n    fun minMaxBy() {\\n        expectMinMaxBy(1U, 1U, ubyteArrayOf(1U), { it })\\n        expectMinMaxBy(1U, 2U, ubyteArrayOf(1U, 2U), { it })\\n        expectMinMaxBy(1U, UByte.MAX_VALUE, ubyteArrayOf(1U, 2U, UByte.MAX_VALUE), { it })\\n\\n    }\\n\\n    @Test\\n    fun minMaxByEmpty() {\\n        val empty = ubyteArrayOf()\\n        assertNull(empty.minByOrNull { it.toString() })\\n        assertNull(empty.maxByOrNull { it.toString() })\\n        assertFailsWith&lt;NoSuchElementException&gt; { empty.minBy { it.toString() } }\\n        assertFailsWith&lt;NoSuchElementException&gt; { empty.maxBy { it.toString() } }                       \\n    }\\n\\n    @Test \\n    fun minBySelectorEvaluateOnce() {\\n        val source = ubyteArrayOf(1U, 2U, UByte.MAX_VALUE)\\n        var c = 0\\n        source.minBy { c++ }\\n        assertEquals(3, c)\\n        c = 0\\n        source.minByOrNull { c++ }\\n        assertEquals(3, c)\\n    }\\n\\n    @Test \\n    fun maxBySelectorEvaluateOnce() {\\n        val source = ubyteArrayOf(1U, 2U, UByte.MAX_VALUE)\\n        var c = 0\\n        source.maxBy { c++ }\\n        assertEquals(3, c)\\n        c = 0\\n        source.maxByOrNull { c++ }\\n        assertEquals(3, c)\\n    }\\n    \\n    \\n    private inline fun &lt;R : Comparable&lt;R&gt;&gt; expectMinMaxOf(min: R, max: R, elements: UByteArray, selector: (UByte) -&gt; R) {\\n        assertEquals(min, elements.minOf(selector))\\n        assertEquals(min, elements.minOfOrNull(selector))\\n        assertEquals(max, elements.maxOf(selector))</td>\n",
       "      <td>assertEquals(max, elements.maxOfOrNull(selector))</td>\n",
       "    </tr>\n",
       "    <tr>\n",
       "      <th>1000001</th>\n",
       "      <td>}\\n\\n    @Test\\n    fun minMaxWithEmpty() {\\n        val empty = ubyteArrayOf()\\n        assertNull(empty.minWithOrNull(naturalOrder()))\\n        assertNull(empty.maxWithOrNull(naturalOrder()))\\n        assertFailsWith&lt;NoSuchElementException&gt; { empty.minWith(naturalOrder()) }\\n        assertFailsWith&lt;NoSuchElementException&gt; { empty.maxWith(naturalOrder()) }\\n    }\\n\\n\\n    private inline fun &lt;K : Comparable&lt;K&gt;&gt; expectMinMaxBy(min: UByte, max: UByte, elements: UByteArray, selector: (UByte) -&gt; K) {\\n        assertEquals(min, elements.minBy(selector))\\n        assertEquals(min, elements.minByOrNull(selector))\\n        assertEquals(max, elements.maxBy(selector))\\n        assertEquals(max, elements.maxByOrNull(selector))\\n    }\\n\\n    @Test\\n    fun minMaxBy() {\\n        expectMinMaxBy(1U, 1U, ubyteArrayOf(1U), { it })\\n        expectMinMaxBy(1U, 2U, ubyteArrayOf(1U, 2U), { it })\\n        expectMinMaxBy(1U, UByte.MAX_VALUE, ubyteArrayOf(1U, 2U, UByte.MAX_VALUE), { it })\\n\\n    }\\n\\n    @Test\\n    fun minMaxByEmpty() {\\n        val empty = ubyteArrayOf()\\n        assertNull(empty.minByOrNull { it.toString() })\\n        assertNull(empty.maxByOrNull { it.toString() })\\n        assertFailsWith&lt;NoSuchElementException&gt; { empty.minBy { it.toString() } }\\n        assertFailsWith&lt;NoSuchElementException&gt; { empty.maxBy { it.toString() } }                       \\n    }\\n\\n    @Test \\n    fun minBySelectorEvaluateOnce() {\\n        val source = ubyteArrayOf(1U, 2U, UByte.MAX_VALUE)\\n        var c = 0\\n        source.minBy { c++ }\\n        assertEquals(3, c)\\n        c = 0\\n        source.minByOrNull { c++ }\\n        assertEquals(3, c)\\n    }\\n\\n    @Test \\n    fun maxBySelectorEvaluateOnce() {\\n        val source = ubyteArrayOf(1U, 2U, UByte.MAX_VALUE)\\n        var c = 0\\n        source.maxBy { c++ }\\n        assertEquals(3, c)\\n        c = 0\\n        source.maxByOrNull { c++ }\\n        assertEquals(3, c)\\n    }\\n    \\n    \\n    private inline fun &lt;R : Comparable&lt;R&gt;&gt; expectMinMaxOf(min: R, max: R, elements: UByteArray, selector: (UByte) -&gt; R) {\\n        assertEquals(min, elements.minOf(selector))\\n        assertEquals(min, elements.minOfOrNull(selector))\\n        assertEquals(max, elements.maxOf(selector))\\n        assertEquals(max, elements.maxOfOrNull(selector))</td>\n",
       "      <td>}</td>\n",
       "    </tr>\n",
       "    <tr>\n",
       "      <th>1000002</th>\n",
       "      <td>}\\n\\n    @Test\\n    fun minMaxWithEmpty() {\\n        val empty = ubyteArrayOf()\\n        assertNull(empty.minWithOrNull(naturalOrder()))\\n        assertNull(empty.maxWithOrNull(naturalOrder()))\\n        assertFailsWith&lt;NoSuchElementException&gt; { empty.minWith(naturalOrder()) }\\n        assertFailsWith&lt;NoSuchElementException&gt; { empty.maxWith(naturalOrder()) }\\n    }\\n\\n\\n    private inline fun &lt;K : Comparable&lt;K&gt;&gt; expectMinMaxBy(min: UByte, max: UByte, elements: UByteArray, selector: (UByte) -&gt; K) {\\n        assertEquals(min, elements.minBy(selector))\\n        assertEquals(min, elements.minByOrNull(selector))\\n        assertEquals(max, elements.maxBy(selector))\\n        assertEquals(max, elements.maxByOrNull(selector))\\n    }\\n\\n    @Test\\n    fun minMaxBy() {\\n        expectMinMaxBy(1U, 1U, ubyteArrayOf(1U), { it })\\n        expectMinMaxBy(1U, 2U, ubyteArrayOf(1U, 2U), { it })\\n        expectMinMaxBy(1U, UByte.MAX_VALUE, ubyteArrayOf(1U, 2U, UByte.MAX_VALUE), { it })\\n\\n    }\\n\\n    @Test\\n    fun minMaxByEmpty() {\\n        val empty = ubyteArrayOf()\\n        assertNull(empty.minByOrNull { it.toString() })\\n        assertNull(empty.maxByOrNull { it.toString() })\\n        assertFailsWith&lt;NoSuchElementException&gt; { empty.minBy { it.toString() } }\\n        assertFailsWith&lt;NoSuchElementException&gt; { empty.maxBy { it.toString() } }                       \\n    }\\n\\n    @Test \\n    fun minBySelectorEvaluateOnce() {\\n        val source = ubyteArrayOf(1U, 2U, UByte.MAX_VALUE)\\n        var c = 0\\n        source.minBy { c++ }\\n        assertEquals(3, c)\\n        c = 0\\n        source.minByOrNull { c++ }\\n        assertEquals(3, c)\\n    }\\n\\n    @Test \\n    fun maxBySelectorEvaluateOnce() {\\n        val source = ubyteArrayOf(1U, 2U, UByte.MAX_VALUE)\\n        var c = 0\\n        source.maxBy { c++ }\\n        assertEquals(3, c)\\n        c = 0\\n        source.maxByOrNull { c++ }\\n        assertEquals(3, c)\\n    }\\n    \\n    \\n    private inline fun &lt;R : Comparable&lt;R&gt;&gt; expectMinMaxOf(min: R, max: R, elements: UByteArray, selector: (UByte) -&gt; R) {\\n        assertEquals(min, elements.minOf(selector))\\n        assertEquals(min, elements.minOfOrNull(selector))\\n        assertEquals(max, elements.maxOf(selector))\\n        assertEquals(max, elements.maxOfOrNull(selector))\\n    }</td>\n",
       "      <td>NaN</td>\n",
       "    </tr>\n",
       "    <tr>\n",
       "      <th>1000003</th>\n",
       "      <td>@Test\\n    fun minMaxWithEmpty() {\\n        val empty = ubyteArrayOf()\\n        assertNull(empty.minWithOrNull(naturalOrder()))\\n        assertNull(empty.maxWithOrNull(naturalOrder()))\\n        assertFailsWith&lt;NoSuchElementException&gt; { empty.minWith(naturalOrder()) }\\n        assertFailsWith&lt;NoSuchElementException&gt; { empty.maxWith(naturalOrder()) }\\n    }\\n\\n\\n    private inline fun &lt;K : Comparable&lt;K&gt;&gt; expectMinMaxBy(min: UByte, max: UByte, elements: UByteArray, selector: (UByte) -&gt; K) {\\n        assertEquals(min, elements.minBy(selector))\\n        assertEquals(min, elements.minByOrNull(selector))\\n        assertEquals(max, elements.maxBy(selector))\\n        assertEquals(max, elements.maxByOrNull(selector))\\n    }\\n\\n    @Test\\n    fun minMaxBy() {\\n        expectMinMaxBy(1U, 1U, ubyteArrayOf(1U), { it })\\n        expectMinMaxBy(1U, 2U, ubyteArrayOf(1U, 2U), { it })\\n        expectMinMaxBy(1U, UByte.MAX_VALUE, ubyteArrayOf(1U, 2U, UByte.MAX_VALUE), { it })\\n\\n    }\\n\\n    @Test\\n    fun minMaxByEmpty() {\\n        val empty = ubyteArrayOf()\\n        assertNull(empty.minByOrNull { it.toString() })\\n        assertNull(empty.maxByOrNull { it.toString() })\\n        assertFailsWith&lt;NoSuchElementException&gt; { empty.minBy { it.toString() } }\\n        assertFailsWith&lt;NoSuchElementException&gt; { empty.maxBy { it.toString() } }                       \\n    }\\n\\n    @Test \\n    fun minBySelectorEvaluateOnce() {\\n        val source = ubyteArrayOf(1U, 2U, UByte.MAX_VALUE)\\n        var c = 0\\n        source.minBy { c++ }\\n        assertEquals(3, c)\\n        c = 0\\n        source.minByOrNull { c++ }\\n        assertEquals(3, c)\\n    }\\n\\n    @Test \\n    fun maxBySelectorEvaluateOnce() {\\n        val source = ubyteArrayOf(1U, 2U, UByte.MAX_VALUE)\\n        var c = 0\\n        source.maxBy { c++ }\\n        assertEquals(3, c)\\n        c = 0\\n        source.maxByOrNull { c++ }\\n        assertEquals(3, c)\\n    }\\n    \\n    \\n    private inline fun &lt;R : Comparable&lt;R&gt;&gt; expectMinMaxOf(min: R, max: R, elements: UByteArray, selector: (UByte) -&gt; R) {\\n        assertEquals(min, elements.minOf(selector))\\n        assertEquals(min, elements.minOfOrNull(selector))\\n        assertEquals(max, elements.maxOf(selector))\\n        assertEquals(max, elements.maxOfOrNull(selector))\\n    }</td>\n",
       "      <td>@Test</td>\n",
       "    </tr>\n",
       "    <tr>\n",
       "      <th>1000004</th>\n",
       "      <td>@Test\\n    fun minMaxWithEmpty() {\\n        val empty = ubyteArrayOf()\\n        assertNull(empty.minWithOrNull(naturalOrder()))\\n        assertNull(empty.maxWithOrNull(naturalOrder()))\\n        assertFailsWith&lt;NoSuchElementException&gt; { empty.minWith(naturalOrder()) }\\n        assertFailsWith&lt;NoSuchElementException&gt; { empty.maxWith(naturalOrder()) }\\n    }\\n\\n\\n    private inline fun &lt;K : Comparable&lt;K&gt;&gt; expectMinMaxBy(min: UByte, max: UByte, elements: UByteArray, selector: (UByte) -&gt; K) {\\n        assertEquals(min, elements.minBy(selector))\\n        assertEquals(min, elements.minByOrNull(selector))\\n        assertEquals(max, elements.maxBy(selector))\\n        assertEquals(max, elements.maxByOrNull(selector))\\n    }\\n\\n    @Test\\n    fun minMaxBy() {\\n        expectMinMaxBy(1U, 1U, ubyteArrayOf(1U), { it })\\n        expectMinMaxBy(1U, 2U, ubyteArrayOf(1U, 2U), { it })\\n        expectMinMaxBy(1U, UByte.MAX_VALUE, ubyteArrayOf(1U, 2U, UByte.MAX_VALUE), { it })\\n\\n    }\\n\\n    @Test\\n    fun minMaxByEmpty() {\\n        val empty = ubyteArrayOf()\\n        assertNull(empty.minByOrNull { it.toString() })\\n        assertNull(empty.maxByOrNull { it.toString() })\\n        assertFailsWith&lt;NoSuchElementException&gt; { empty.minBy { it.toString() } }\\n        assertFailsWith&lt;NoSuchElementException&gt; { empty.maxBy { it.toString() } }                       \\n    }\\n\\n    @Test \\n    fun minBySelectorEvaluateOnce() {\\n        val source = ubyteArrayOf(1U, 2U, UByte.MAX_VALUE)\\n        var c = 0\\n        source.minBy { c++ }\\n        assertEquals(3, c)\\n        c = 0\\n        source.minByOrNull { c++ }\\n        assertEquals(3, c)\\n    }\\n\\n    @Test \\n    fun maxBySelectorEvaluateOnce() {\\n        val source = ubyteArrayOf(1U, 2U, UByte.MAX_VALUE)\\n        var c = 0\\n        source.maxBy { c++ }\\n        assertEquals(3, c)\\n        c = 0\\n        source.maxByOrNull { c++ }\\n        assertEquals(3, c)\\n    }\\n    \\n    \\n    private inline fun &lt;R : Comparable&lt;R&gt;&gt; expectMinMaxOf(min: R, max: R, elements: UByteArray, selector: (UByte) -&gt; R) {\\n        assertEquals(min, elements.minOf(selector))\\n        assertEquals(min, elements.minOfOrNull(selector))\\n        assertEquals(max, elements.maxOf(selector))\\n        assertEquals(max, elements.maxOfOrNull(selector))\\n    }\\n    \\n    @Test</td>\n",
       "      <td>fun minMaxOf() {</td>\n",
       "    </tr>\n",
       "    <tr>\n",
       "      <th>1000005</th>\n",
       "      <td>fun minMaxWithEmpty() {\\n        val empty = ubyteArrayOf()\\n        assertNull(empty.minWithOrNull(naturalOrder()))\\n        assertNull(empty.maxWithOrNull(naturalOrder()))\\n        assertFailsWith&lt;NoSuchElementException&gt; { empty.minWith(naturalOrder()) }\\n        assertFailsWith&lt;NoSuchElementException&gt; { empty.maxWith(naturalOrder()) }\\n    }\\n\\n\\n    private inline fun &lt;K : Comparable&lt;K&gt;&gt; expectMinMaxBy(min: UByte, max: UByte, elements: UByteArray, selector: (UByte) -&gt; K) {\\n        assertEquals(min, elements.minBy(selector))\\n        assertEquals(min, elements.minByOrNull(selector))\\n        assertEquals(max, elements.maxBy(selector))\\n        assertEquals(max, elements.maxByOrNull(selector))\\n    }\\n\\n    @Test\\n    fun minMaxBy() {\\n        expectMinMaxBy(1U, 1U, ubyteArrayOf(1U), { it })\\n        expectMinMaxBy(1U, 2U, ubyteArrayOf(1U, 2U), { it })\\n        expectMinMaxBy(1U, UByte.MAX_VALUE, ubyteArrayOf(1U, 2U, UByte.MAX_VALUE), { it })\\n\\n    }\\n\\n    @Test\\n    fun minMaxByEmpty() {\\n        val empty = ubyteArrayOf()\\n        assertNull(empty.minByOrNull { it.toString() })\\n        assertNull(empty.maxByOrNull { it.toString() })\\n        assertFailsWith&lt;NoSuchElementException&gt; { empty.minBy { it.toString() } }\\n        assertFailsWith&lt;NoSuchElementException&gt; { empty.maxBy { it.toString() } }                       \\n    }\\n\\n    @Test \\n    fun minBySelectorEvaluateOnce() {\\n        val source = ubyteArrayOf(1U, 2U, UByte.MAX_VALUE)\\n        var c = 0\\n        source.minBy { c++ }\\n        assertEquals(3, c)\\n        c = 0\\n        source.minByOrNull { c++ }\\n        assertEquals(3, c)\\n    }\\n\\n    @Test \\n    fun maxBySelectorEvaluateOnce() {\\n        val source = ubyteArrayOf(1U, 2U, UByte.MAX_VALUE)\\n        var c = 0\\n        source.maxBy { c++ }\\n        assertEquals(3, c)\\n        c = 0\\n        source.maxByOrNull { c++ }\\n        assertEquals(3, c)\\n    }\\n    \\n    \\n    private inline fun &lt;R : Comparable&lt;R&gt;&gt; expectMinMaxOf(min: R, max: R, elements: UByteArray, selector: (UByte) -&gt; R) {\\n        assertEquals(min, elements.minOf(selector))\\n        assertEquals(min, elements.minOfOrNull(selector))\\n        assertEquals(max, elements.maxOf(selector))\\n        assertEquals(max, elements.maxOfOrNull(selector))\\n    }\\n    \\n    @Test\\n    fun minMaxOf() {</td>\n",
       "      <td>expectMinMaxOf((0u - 1U).toUByte(), (0u - 1U).toUByte(), ubyteArrayOf(1U), { (0u - it).toUByte() })</td>\n",
       "    </tr>\n",
       "    <tr>\n",
       "      <th>1000006</th>\n",
       "      <td>val empty = ubyteArrayOf()\\n        assertNull(empty.minWithOrNull(naturalOrder()))\\n        assertNull(empty.maxWithOrNull(naturalOrder()))\\n        assertFailsWith&lt;NoSuchElementException&gt; { empty.minWith(naturalOrder()) }\\n        assertFailsWith&lt;NoSuchElementException&gt; { empty.maxWith(naturalOrder()) }\\n    }\\n\\n\\n    private inline fun &lt;K : Comparable&lt;K&gt;&gt; expectMinMaxBy(min: UByte, max: UByte, elements: UByteArray, selector: (UByte) -&gt; K) {\\n        assertEquals(min, elements.minBy(selector))\\n        assertEquals(min, elements.minByOrNull(selector))\\n        assertEquals(max, elements.maxBy(selector))\\n        assertEquals(max, elements.maxByOrNull(selector))\\n    }\\n\\n    @Test\\n    fun minMaxBy() {\\n        expectMinMaxBy(1U, 1U, ubyteArrayOf(1U), { it })\\n        expectMinMaxBy(1U, 2U, ubyteArrayOf(1U, 2U), { it })\\n        expectMinMaxBy(1U, UByte.MAX_VALUE, ubyteArrayOf(1U, 2U, UByte.MAX_VALUE), { it })\\n\\n    }\\n\\n    @Test\\n    fun minMaxByEmpty() {\\n        val empty = ubyteArrayOf()\\n        assertNull(empty.minByOrNull { it.toString() })\\n        assertNull(empty.maxByOrNull { it.toString() })\\n        assertFailsWith&lt;NoSuchElementException&gt; { empty.minBy { it.toString() } }\\n        assertFailsWith&lt;NoSuchElementException&gt; { empty.maxBy { it.toString() } }                       \\n    }\\n\\n    @Test \\n    fun minBySelectorEvaluateOnce() {\\n        val source = ubyteArrayOf(1U, 2U, UByte.MAX_VALUE)\\n        var c = 0\\n        source.minBy { c++ }\\n        assertEquals(3, c)\\n        c = 0\\n        source.minByOrNull { c++ }\\n        assertEquals(3, c)\\n    }\\n\\n    @Test \\n    fun maxBySelectorEvaluateOnce() {\\n        val source = ubyteArrayOf(1U, 2U, UByte.MAX_VALUE)\\n        var c = 0\\n        source.maxBy { c++ }\\n        assertEquals(3, c)\\n        c = 0\\n        source.maxByOrNull { c++ }\\n        assertEquals(3, c)\\n    }\\n    \\n    \\n    private inline fun &lt;R : Comparable&lt;R&gt;&gt; expectMinMaxOf(min: R, max: R, elements: UByteArray, selector: (UByte) -&gt; R) {\\n        assertEquals(min, elements.minOf(selector))\\n        assertEquals(min, elements.minOfOrNull(selector))\\n        assertEquals(max, elements.maxOf(selector))\\n        assertEquals(max, elements.maxOfOrNull(selector))\\n    }\\n    \\n    @Test\\n    fun minMaxOf() {\\n        expectMinMaxOf((0u - 1U).toUByte(), (0u - 1U).toUByte(), ubyteArrayOf(1U), { (0u - it).toUByte() })</td>\n",
       "      <td>expectMinMaxOf((0u - 2U).toUByte(), (0u - 1U).toUByte(), ubyteArrayOf(1U, 2U), { (0u - it).toUByte() })</td>\n",
       "    </tr>\n",
       "    <tr>\n",
       "      <th>1000007</th>\n",
       "      <td>assertNull(empty.minWithOrNull(naturalOrder()))\\n        assertNull(empty.maxWithOrNull(naturalOrder()))\\n        assertFailsWith&lt;NoSuchElementException&gt; { empty.minWith(naturalOrder()) }\\n        assertFailsWith&lt;NoSuchElementException&gt; { empty.maxWith(naturalOrder()) }\\n    }\\n\\n\\n    private inline fun &lt;K : Comparable&lt;K&gt;&gt; expectMinMaxBy(min: UByte, max: UByte, elements: UByteArray, selector: (UByte) -&gt; K) {\\n        assertEquals(min, elements.minBy(selector))\\n        assertEquals(min, elements.minByOrNull(selector))\\n        assertEquals(max, elements.maxBy(selector))\\n        assertEquals(max, elements.maxByOrNull(selector))\\n    }\\n\\n    @Test\\n    fun minMaxBy() {\\n        expectMinMaxBy(1U, 1U, ubyteArrayOf(1U), { it })\\n        expectMinMaxBy(1U, 2U, ubyteArrayOf(1U, 2U), { it })\\n        expectMinMaxBy(1U, UByte.MAX_VALUE, ubyteArrayOf(1U, 2U, UByte.MAX_VALUE), { it })\\n\\n    }\\n\\n    @Test\\n    fun minMaxByEmpty() {\\n        val empty = ubyteArrayOf()\\n        assertNull(empty.minByOrNull { it.toString() })\\n        assertNull(empty.maxByOrNull { it.toString() })\\n        assertFailsWith&lt;NoSuchElementException&gt; { empty.minBy { it.toString() } }\\n        assertFailsWith&lt;NoSuchElementException&gt; { empty.maxBy { it.toString() } }                       \\n    }\\n\\n    @Test \\n    fun minBySelectorEvaluateOnce() {\\n        val source = ubyteArrayOf(1U, 2U, UByte.MAX_VALUE)\\n        var c = 0\\n        source.minBy { c++ }\\n        assertEquals(3, c)\\n        c = 0\\n        source.minByOrNull { c++ }\\n        assertEquals(3, c)\\n    }\\n\\n    @Test \\n    fun maxBySelectorEvaluateOnce() {\\n        val source = ubyteArrayOf(1U, 2U, UByte.MAX_VALUE)\\n        var c = 0\\n        source.maxBy { c++ }\\n        assertEquals(3, c)\\n        c = 0\\n        source.maxByOrNull { c++ }\\n        assertEquals(3, c)\\n    }\\n    \\n    \\n    private inline fun &lt;R : Comparable&lt;R&gt;&gt; expectMinMaxOf(min: R, max: R, elements: UByteArray, selector: (UByte) -&gt; R) {\\n        assertEquals(min, elements.minOf(selector))\\n        assertEquals(min, elements.minOfOrNull(selector))\\n        assertEquals(max, elements.maxOf(selector))\\n        assertEquals(max, elements.maxOfOrNull(selector))\\n    }\\n    \\n    @Test\\n    fun minMaxOf() {\\n        expectMinMaxOf((0u - 1U).toUByte(), (0u - 1U).toUByte(), ubyteArrayOf(1U), { (0u - it).toUByte() })\\n        expectMinMaxOf((0u - 2U).toUByte(), (0u - 1U).toUByte(), ubyteArrayOf(1U, 2U), { (0u - it).toUByte() })</td>\n",
       "      <td>expectMinMaxOf((0u - UByte.MAX_VALUE).toUByte(), (0u - 1U).toUByte(), ubyteArrayOf(1U, 2U, UByte.MAX_VALUE), { (0u - it).toUByte() })</td>\n",
       "    </tr>\n",
       "    <tr>\n",
       "      <th>1000008</th>\n",
       "      <td>assertNull(empty.maxWithOrNull(naturalOrder()))\\n        assertFailsWith&lt;NoSuchElementException&gt; { empty.minWith(naturalOrder()) }\\n        assertFailsWith&lt;NoSuchElementException&gt; { empty.maxWith(naturalOrder()) }\\n    }\\n\\n\\n    private inline fun &lt;K : Comparable&lt;K&gt;&gt; expectMinMaxBy(min: UByte, max: UByte, elements: UByteArray, selector: (UByte) -&gt; K) {\\n        assertEquals(min, elements.minBy(selector))\\n        assertEquals(min, elements.minByOrNull(selector))\\n        assertEquals(max, elements.maxBy(selector))\\n        assertEquals(max, elements.maxByOrNull(selector))\\n    }\\n\\n    @Test\\n    fun minMaxBy() {\\n        expectMinMaxBy(1U, 1U, ubyteArrayOf(1U), { it })\\n        expectMinMaxBy(1U, 2U, ubyteArrayOf(1U, 2U), { it })\\n        expectMinMaxBy(1U, UByte.MAX_VALUE, ubyteArrayOf(1U, 2U, UByte.MAX_VALUE), { it })\\n\\n    }\\n\\n    @Test\\n    fun minMaxByEmpty() {\\n        val empty = ubyteArrayOf()\\n        assertNull(empty.minByOrNull { it.toString() })\\n        assertNull(empty.maxByOrNull { it.toString() })\\n        assertFailsWith&lt;NoSuchElementException&gt; { empty.minBy { it.toString() } }\\n        assertFailsWith&lt;NoSuchElementException&gt; { empty.maxBy { it.toString() } }                       \\n    }\\n\\n    @Test \\n    fun minBySelectorEvaluateOnce() {\\n        val source = ubyteArrayOf(1U, 2U, UByte.MAX_VALUE)\\n        var c = 0\\n        source.minBy { c++ }\\n        assertEquals(3, c)\\n        c = 0\\n        source.minByOrNull { c++ }\\n        assertEquals(3, c)\\n    }\\n\\n    @Test \\n    fun maxBySelectorEvaluateOnce() {\\n        val source = ubyteArrayOf(1U, 2U, UByte.MAX_VALUE)\\n        var c = 0\\n        source.maxBy { c++ }\\n        assertEquals(3, c)\\n        c = 0\\n        source.maxByOrNull { c++ }\\n        assertEquals(3, c)\\n    }\\n    \\n    \\n    private inline fun &lt;R : Comparable&lt;R&gt;&gt; expectMinMaxOf(min: R, max: R, elements: UByteArray, selector: (UByte) -&gt; R) {\\n        assertEquals(min, elements.minOf(selector))\\n        assertEquals(min, elements.minOfOrNull(selector))\\n        assertEquals(max, elements.maxOf(selector))\\n        assertEquals(max, elements.maxOfOrNull(selector))\\n    }\\n    \\n    @Test\\n    fun minMaxOf() {\\n        expectMinMaxOf((0u - 1U).toUByte(), (0u - 1U).toUByte(), ubyteArrayOf(1U), { (0u - it).toUByte() })\\n        expectMinMaxOf((0u - 2U).toUByte(), (0u - 1U).toUByte(), ubyteArrayOf(1U, 2U), { (0u - it).toUByte() })\\n        expectMinMaxOf((0u - UByte.MAX_VALUE).toUByte(), (0u - 1U).toUByte(), ubyteArrayOf(1U, 2U, UByte.MAX_VALUE), { (0u - it).toUByte() })</td>\n",
       "      <td>NaN</td>\n",
       "    </tr>\n",
       "    <tr>\n",
       "      <th>1000009</th>\n",
       "      <td>assertFailsWith&lt;NoSuchElementException&gt; { empty.minWith(naturalOrder()) }\\n        assertFailsWith&lt;NoSuchElementException&gt; { empty.maxWith(naturalOrder()) }\\n    }\\n\\n\\n    private inline fun &lt;K : Comparable&lt;K&gt;&gt; expectMinMaxBy(min: UByte, max: UByte, elements: UByteArray, selector: (UByte) -&gt; K) {\\n        assertEquals(min, elements.minBy(selector))\\n        assertEquals(min, elements.minByOrNull(selector))\\n        assertEquals(max, elements.maxBy(selector))\\n        assertEquals(max, elements.maxByOrNull(selector))\\n    }\\n\\n    @Test\\n    fun minMaxBy() {\\n        expectMinMaxBy(1U, 1U, ubyteArrayOf(1U), { it })\\n        expectMinMaxBy(1U, 2U, ubyteArrayOf(1U, 2U), { it })\\n        expectMinMaxBy(1U, UByte.MAX_VALUE, ubyteArrayOf(1U, 2U, UByte.MAX_VALUE), { it })\\n\\n    }\\n\\n    @Test\\n    fun minMaxByEmpty() {\\n        val empty = ubyteArrayOf()\\n        assertNull(empty.minByOrNull { it.toString() })\\n        assertNull(empty.maxByOrNull { it.toString() })\\n        assertFailsWith&lt;NoSuchElementException&gt; { empty.minBy { it.toString() } }\\n        assertFailsWith&lt;NoSuchElementException&gt; { empty.maxBy { it.toString() } }                       \\n    }\\n\\n    @Test \\n    fun minBySelectorEvaluateOnce() {\\n        val source = ubyteArrayOf(1U, 2U, UByte.MAX_VALUE)\\n        var c = 0\\n        source.minBy { c++ }\\n        assertEquals(3, c)\\n        c = 0\\n        source.minByOrNull { c++ }\\n        assertEquals(3, c)\\n    }\\n\\n    @Test \\n    fun maxBySelectorEvaluateOnce() {\\n        val source = ubyteArrayOf(1U, 2U, UByte.MAX_VALUE)\\n        var c = 0\\n        source.maxBy { c++ }\\n        assertEquals(3, c)\\n        c = 0\\n        source.maxByOrNull { c++ }\\n        assertEquals(3, c)\\n    }\\n    \\n    \\n    private inline fun &lt;R : Comparable&lt;R&gt;&gt; expectMinMaxOf(min: R, max: R, elements: UByteArray, selector: (UByte) -&gt; R) {\\n        assertEquals(min, elements.minOf(selector))\\n        assertEquals(min, elements.minOfOrNull(selector))\\n        assertEquals(max, elements.maxOf(selector))\\n        assertEquals(max, elements.maxOfOrNull(selector))\\n    }\\n    \\n    @Test\\n    fun minMaxOf() {\\n        expectMinMaxOf((0u - 1U).toUByte(), (0u - 1U).toUByte(), ubyteArrayOf(1U), { (0u - it).toUByte() })\\n        expectMinMaxOf((0u - 2U).toUByte(), (0u - 1U).toUByte(), ubyteArrayOf(1U, 2U), { (0u - it).toUByte() })\\n        expectMinMaxOf((0u - UByte.MAX_VALUE).toUByte(), (0u - 1U).toUByte(), ubyteArrayOf(1U, 2U, UByte.MAX_VALUE), { (0u - it).toUByte() })</td>\n",
       "      <td>}</td>\n",
       "    </tr>\n",
       "    <tr>\n",
       "      <th>1000010</th>\n",
       "      <td>assertFailsWith&lt;NoSuchElementException&gt; { empty.maxWith(naturalOrder()) }\\n    }\\n\\n\\n    private inline fun &lt;K : Comparable&lt;K&gt;&gt; expectMinMaxBy(min: UByte, max: UByte, elements: UByteArray, selector: (UByte) -&gt; K) {\\n        assertEquals(min, elements.minBy(selector))\\n        assertEquals(min, elements.minByOrNull(selector))\\n        assertEquals(max, elements.maxBy(selector))\\n        assertEquals(max, elements.maxByOrNull(selector))\\n    }\\n\\n    @Test\\n    fun minMaxBy() {\\n        expectMinMaxBy(1U, 1U, ubyteArrayOf(1U), { it })\\n        expectMinMaxBy(1U, 2U, ubyteArrayOf(1U, 2U), { it })\\n        expectMinMaxBy(1U, UByte.MAX_VALUE, ubyteArrayOf(1U, 2U, UByte.MAX_VALUE), { it })\\n\\n    }\\n\\n    @Test\\n    fun minMaxByEmpty() {\\n        val empty = ubyteArrayOf()\\n        assertNull(empty.minByOrNull { it.toString() })\\n        assertNull(empty.maxByOrNull { it.toString() })\\n        assertFailsWith&lt;NoSuchElementException&gt; { empty.minBy { it.toString() } }\\n        assertFailsWith&lt;NoSuchElementException&gt; { empty.maxBy { it.toString() } }                       \\n    }\\n\\n    @Test \\n    fun minBySelectorEvaluateOnce() {\\n        val source = ubyteArrayOf(1U, 2U, UByte.MAX_VALUE)\\n        var c = 0\\n        source.minBy { c++ }\\n        assertEquals(3, c)\\n        c = 0\\n        source.minByOrNull { c++ }\\n        assertEquals(3, c)\\n    }\\n\\n    @Test \\n    fun maxBySelectorEvaluateOnce() {\\n        val source = ubyteArrayOf(1U, 2U, UByte.MAX_VALUE)\\n        var c = 0\\n        source.maxBy { c++ }\\n        assertEquals(3, c)\\n        c = 0\\n        source.maxByOrNull { c++ }\\n        assertEquals(3, c)\\n    }\\n    \\n    \\n    private inline fun &lt;R : Comparable&lt;R&gt;&gt; expectMinMaxOf(min: R, max: R, elements: UByteArray, selector: (UByte) -&gt; R) {\\n        assertEquals(min, elements.minOf(selector))\\n        assertEquals(min, elements.minOfOrNull(selector))\\n        assertEquals(max, elements.maxOf(selector))\\n        assertEquals(max, elements.maxOfOrNull(selector))\\n    }\\n    \\n    @Test\\n    fun minMaxOf() {\\n        expectMinMaxOf((0u - 1U).toUByte(), (0u - 1U).toUByte(), ubyteArrayOf(1U), { (0u - it).toUByte() })\\n        expectMinMaxOf((0u - 2U).toUByte(), (0u - 1U).toUByte(), ubyteArrayOf(1U, 2U), { (0u - it).toUByte() })\\n        expectMinMaxOf((0u - UByte.MAX_VALUE).toUByte(), (0u - 1U).toUByte(), ubyteArrayOf(1U, 2U, UByte.MAX_VALUE), { (0u - it).toUByte() })\\n\\n    }</td>\n",
       "      <td>NaN</td>\n",
       "    </tr>\n",
       "    <tr>\n",
       "      <th>1000011</th>\n",
       "      <td>}\\n\\n\\n    private inline fun &lt;K : Comparable&lt;K&gt;&gt; expectMinMaxBy(min: UByte, max: UByte, elements: UByteArray, selector: (UByte) -&gt; K) {\\n        assertEquals(min, elements.minBy(selector))\\n        assertEquals(min, elements.minByOrNull(selector))\\n        assertEquals(max, elements.maxBy(selector))\\n        assertEquals(max, elements.maxByOrNull(selector))\\n    }\\n\\n    @Test\\n    fun minMaxBy() {\\n        expectMinMaxBy(1U, 1U, ubyteArrayOf(1U), { it })\\n        expectMinMaxBy(1U, 2U, ubyteArrayOf(1U, 2U), { it })\\n        expectMinMaxBy(1U, UByte.MAX_VALUE, ubyteArrayOf(1U, 2U, UByte.MAX_VALUE), { it })\\n\\n    }\\n\\n    @Test\\n    fun minMaxByEmpty() {\\n        val empty = ubyteArrayOf()\\n        assertNull(empty.minByOrNull { it.toString() })\\n        assertNull(empty.maxByOrNull { it.toString() })\\n        assertFailsWith&lt;NoSuchElementException&gt; { empty.minBy { it.toString() } }\\n        assertFailsWith&lt;NoSuchElementException&gt; { empty.maxBy { it.toString() } }                       \\n    }\\n\\n    @Test \\n    fun minBySelectorEvaluateOnce() {\\n        val source = ubyteArrayOf(1U, 2U, UByte.MAX_VALUE)\\n        var c = 0\\n        source.minBy { c++ }\\n        assertEquals(3, c)\\n        c = 0\\n        source.minByOrNull { c++ }\\n        assertEquals(3, c)\\n    }\\n\\n    @Test \\n    fun maxBySelectorEvaluateOnce() {\\n        val source = ubyteArrayOf(1U, 2U, UByte.MAX_VALUE)\\n        var c = 0\\n        source.maxBy { c++ }\\n        assertEquals(3, c)\\n        c = 0\\n        source.maxByOrNull { c++ }\\n        assertEquals(3, c)\\n    }\\n    \\n    \\n    private inline fun &lt;R : Comparable&lt;R&gt;&gt; expectMinMaxOf(min: R, max: R, elements: UByteArray, selector: (UByte) -&gt; R) {\\n        assertEquals(min, elements.minOf(selector))\\n        assertEquals(min, elements.minOfOrNull(selector))\\n        assertEquals(max, elements.maxOf(selector))\\n        assertEquals(max, elements.maxOfOrNull(selector))\\n    }\\n    \\n    @Test\\n    fun minMaxOf() {\\n        expectMinMaxOf((0u - 1U).toUByte(), (0u - 1U).toUByte(), ubyteArrayOf(1U), { (0u - it).toUByte() })\\n        expectMinMaxOf((0u - 2U).toUByte(), (0u - 1U).toUByte(), ubyteArrayOf(1U, 2U), { (0u - it).toUByte() })\\n        expectMinMaxOf((0u - UByte.MAX_VALUE).toUByte(), (0u - 1U).toUByte(), ubyteArrayOf(1U, 2U, UByte.MAX_VALUE), { (0u - it).toUByte() })\\n\\n    }</td>\n",
       "      <td>@Test</td>\n",
       "    </tr>\n",
       "    <tr>\n",
       "      <th>1000012</th>\n",
       "      <td>private inline fun &lt;K : Comparable&lt;K&gt;&gt; expectMinMaxBy(min: UByte, max: UByte, elements: UByteArray, selector: (UByte) -&gt; K) {\\n        assertEquals(min, elements.minBy(selector))\\n        assertEquals(min, elements.minByOrNull(selector))\\n        assertEquals(max, elements.maxBy(selector))\\n        assertEquals(max, elements.maxByOrNull(selector))\\n    }\\n\\n    @Test\\n    fun minMaxBy() {\\n        expectMinMaxBy(1U, 1U, ubyteArrayOf(1U), { it })\\n        expectMinMaxBy(1U, 2U, ubyteArrayOf(1U, 2U), { it })\\n        expectMinMaxBy(1U, UByte.MAX_VALUE, ubyteArrayOf(1U, 2U, UByte.MAX_VALUE), { it })\\n\\n    }\\n\\n    @Test\\n    fun minMaxByEmpty() {\\n        val empty = ubyteArrayOf()\\n        assertNull(empty.minByOrNull { it.toString() })\\n        assertNull(empty.maxByOrNull { it.toString() })\\n        assertFailsWith&lt;NoSuchElementException&gt; { empty.minBy { it.toString() } }\\n        assertFailsWith&lt;NoSuchElementException&gt; { empty.maxBy { it.toString() } }                       \\n    }\\n\\n    @Test \\n    fun minBySelectorEvaluateOnce() {\\n        val source = ubyteArrayOf(1U, 2U, UByte.MAX_VALUE)\\n        var c = 0\\n        source.minBy { c++ }\\n        assertEquals(3, c)\\n        c = 0\\n        source.minByOrNull { c++ }\\n        assertEquals(3, c)\\n    }\\n\\n    @Test \\n    fun maxBySelectorEvaluateOnce() {\\n        val source = ubyteArrayOf(1U, 2U, UByte.MAX_VALUE)\\n        var c = 0\\n        source.maxBy { c++ }\\n        assertEquals(3, c)\\n        c = 0\\n        source.maxByOrNull { c++ }\\n        assertEquals(3, c)\\n    }\\n    \\n    \\n    private inline fun &lt;R : Comparable&lt;R&gt;&gt; expectMinMaxOf(min: R, max: R, elements: UByteArray, selector: (UByte) -&gt; R) {\\n        assertEquals(min, elements.minOf(selector))\\n        assertEquals(min, elements.minOfOrNull(selector))\\n        assertEquals(max, elements.maxOf(selector))\\n        assertEquals(max, elements.maxOfOrNull(selector))\\n    }\\n    \\n    @Test\\n    fun minMaxOf() {\\n        expectMinMaxOf((0u - 1U).toUByte(), (0u - 1U).toUByte(), ubyteArrayOf(1U), { (0u - it).toUByte() })\\n        expectMinMaxOf((0u - 2U).toUByte(), (0u - 1U).toUByte(), ubyteArrayOf(1U, 2U), { (0u - it).toUByte() })\\n        expectMinMaxOf((0u - UByte.MAX_VALUE).toUByte(), (0u - 1U).toUByte(), ubyteArrayOf(1U, 2U, UByte.MAX_VALUE), { (0u - it).toUByte() })\\n\\n    }\\n    \\n    @Test</td>\n",
       "      <td>fun minMaxOfDouble() {</td>\n",
       "    </tr>\n",
       "    <tr>\n",
       "      <th>1000013</th>\n",
       "      <td>private inline fun &lt;K : Comparable&lt;K&gt;&gt; expectMinMaxBy(min: UByte, max: UByte, elements: UByteArray, selector: (UByte) -&gt; K) {\\n        assertEquals(min, elements.minBy(selector))\\n        assertEquals(min, elements.minByOrNull(selector))\\n        assertEquals(max, elements.maxBy(selector))\\n        assertEquals(max, elements.maxByOrNull(selector))\\n    }\\n\\n    @Test\\n    fun minMaxBy() {\\n        expectMinMaxBy(1U, 1U, ubyteArrayOf(1U), { it })\\n        expectMinMaxBy(1U, 2U, ubyteArrayOf(1U, 2U), { it })\\n        expectMinMaxBy(1U, UByte.MAX_VALUE, ubyteArrayOf(1U, 2U, UByte.MAX_VALUE), { it })\\n\\n    }\\n\\n    @Test\\n    fun minMaxByEmpty() {\\n        val empty = ubyteArrayOf()\\n        assertNull(empty.minByOrNull { it.toString() })\\n        assertNull(empty.maxByOrNull { it.toString() })\\n        assertFailsWith&lt;NoSuchElementException&gt; { empty.minBy { it.toString() } }\\n        assertFailsWith&lt;NoSuchElementException&gt; { empty.maxBy { it.toString() } }                       \\n    }\\n\\n    @Test \\n    fun minBySelectorEvaluateOnce() {\\n        val source = ubyteArrayOf(1U, 2U, UByte.MAX_VALUE)\\n        var c = 0\\n        source.minBy { c++ }\\n        assertEquals(3, c)\\n        c = 0\\n        source.minByOrNull { c++ }\\n        assertEquals(3, c)\\n    }\\n\\n    @Test \\n    fun maxBySelectorEvaluateOnce() {\\n        val source = ubyteArrayOf(1U, 2U, UByte.MAX_VALUE)\\n        var c = 0\\n        source.maxBy { c++ }\\n        assertEquals(3, c)\\n        c = 0\\n        source.maxByOrNull { c++ }\\n        assertEquals(3, c)\\n    }\\n    \\n    \\n    private inline fun &lt;R : Comparable&lt;R&gt;&gt; expectMinMaxOf(min: R, max: R, elements: UByteArray, selector: (UByte) -&gt; R) {\\n        assertEquals(min, elements.minOf(selector))\\n        assertEquals(min, elements.minOfOrNull(selector))\\n        assertEquals(max, elements.maxOf(selector))\\n        assertEquals(max, elements.maxOfOrNull(selector))\\n    }\\n    \\n    @Test\\n    fun minMaxOf() {\\n        expectMinMaxOf((0u - 1U).toUByte(), (0u - 1U).toUByte(), ubyteArrayOf(1U), { (0u - it).toUByte() })\\n        expectMinMaxOf((0u - 2U).toUByte(), (0u - 1U).toUByte(), ubyteArrayOf(1U, 2U), { (0u - it).toUByte() })\\n        expectMinMaxOf((0u - UByte.MAX_VALUE).toUByte(), (0u - 1U).toUByte(), ubyteArrayOf(1U, 2U, UByte.MAX_VALUE), { (0u - it).toUByte() })\\n\\n    }\\n    \\n    @Test\\n    fun minMaxOfDouble() {</td>\n",
       "      <td>val middle = 2U</td>\n",
       "    </tr>\n",
       "    <tr>\n",
       "      <th>1000014</th>\n",
       "      <td>private inline fun &lt;K : Comparable&lt;K&gt;&gt; expectMinMaxBy(min: UByte, max: UByte, elements: UByteArray, selector: (UByte) -&gt; K) {\\n        assertEquals(min, elements.minBy(selector))\\n        assertEquals(min, elements.minByOrNull(selector))\\n        assertEquals(max, elements.maxBy(selector))\\n        assertEquals(max, elements.maxByOrNull(selector))\\n    }\\n\\n    @Test\\n    fun minMaxBy() {\\n        expectMinMaxBy(1U, 1U, ubyteArrayOf(1U), { it })\\n        expectMinMaxBy(1U, 2U, ubyteArrayOf(1U, 2U), { it })\\n        expectMinMaxBy(1U, UByte.MAX_VALUE, ubyteArrayOf(1U, 2U, UByte.MAX_VALUE), { it })\\n\\n    }\\n\\n    @Test\\n    fun minMaxByEmpty() {\\n        val empty = ubyteArrayOf()\\n        assertNull(empty.minByOrNull { it.toString() })\\n        assertNull(empty.maxByOrNull { it.toString() })\\n        assertFailsWith&lt;NoSuchElementException&gt; { empty.minBy { it.toString() } }\\n        assertFailsWith&lt;NoSuchElementException&gt; { empty.maxBy { it.toString() } }                       \\n    }\\n\\n    @Test \\n    fun minBySelectorEvaluateOnce() {\\n        val source = ubyteArrayOf(1U, 2U, UByte.MAX_VALUE)\\n        var c = 0\\n        source.minBy { c++ }\\n        assertEquals(3, c)\\n        c = 0\\n        source.minByOrNull { c++ }\\n        assertEquals(3, c)\\n    }\\n\\n    @Test \\n    fun maxBySelectorEvaluateOnce() {\\n        val source = ubyteArrayOf(1U, 2U, UByte.MAX_VALUE)\\n        var c = 0\\n        source.maxBy { c++ }\\n        assertEquals(3, c)\\n        c = 0\\n        source.maxByOrNull { c++ }\\n        assertEquals(3, c)\\n    }\\n    \\n    \\n    private inline fun &lt;R : Comparable&lt;R&gt;&gt; expectMinMaxOf(min: R, max: R, elements: UByteArray, selector: (UByte) -&gt; R) {\\n        assertEquals(min, elements.minOf(selector))\\n        assertEquals(min, elements.minOfOrNull(selector))\\n        assertEquals(max, elements.maxOf(selector))\\n        assertEquals(max, elements.maxOfOrNull(selector))\\n    }\\n    \\n    @Test\\n    fun minMaxOf() {\\n        expectMinMaxOf((0u - 1U).toUByte(), (0u - 1U).toUByte(), ubyteArrayOf(1U), { (0u - it).toUByte() })\\n        expectMinMaxOf((0u - 2U).toUByte(), (0u - 1U).toUByte(), ubyteArrayOf(1U, 2U), { (0u - it).toUByte() })\\n        expectMinMaxOf((0u - UByte.MAX_VALUE).toUByte(), (0u - 1U).toUByte(), ubyteArrayOf(1U, 2U, UByte.MAX_VALUE), { (0u - it).toUByte() })\\n\\n    }\\n    \\n    @Test\\n    fun minMaxOfDouble() {\\n        val middle = 2U</td>\n",
       "      <td>val items = ubyteArrayOf(1U, 2U, UByte.MAX_VALUE).apply { shuffle() }</td>\n",
       "    </tr>\n",
       "    <tr>\n",
       "      <th>1000015</th>\n",
       "      <td>assertEquals(min, elements.minBy(selector))\\n        assertEquals(min, elements.minByOrNull(selector))\\n        assertEquals(max, elements.maxBy(selector))\\n        assertEquals(max, elements.maxByOrNull(selector))\\n    }\\n\\n    @Test\\n    fun minMaxBy() {\\n        expectMinMaxBy(1U, 1U, ubyteArrayOf(1U), { it })\\n        expectMinMaxBy(1U, 2U, ubyteArrayOf(1U, 2U), { it })\\n        expectMinMaxBy(1U, UByte.MAX_VALUE, ubyteArrayOf(1U, 2U, UByte.MAX_VALUE), { it })\\n\\n    }\\n\\n    @Test\\n    fun minMaxByEmpty() {\\n        val empty = ubyteArrayOf()\\n        assertNull(empty.minByOrNull { it.toString() })\\n        assertNull(empty.maxByOrNull { it.toString() })\\n        assertFailsWith&lt;NoSuchElementException&gt; { empty.minBy { it.toString() } }\\n        assertFailsWith&lt;NoSuchElementException&gt; { empty.maxBy { it.toString() } }                       \\n    }\\n\\n    @Test \\n    fun minBySelectorEvaluateOnce() {\\n        val source = ubyteArrayOf(1U, 2U, UByte.MAX_VALUE)\\n        var c = 0\\n        source.minBy { c++ }\\n        assertEquals(3, c)\\n        c = 0\\n        source.minByOrNull { c++ }\\n        assertEquals(3, c)\\n    }\\n\\n    @Test \\n    fun maxBySelectorEvaluateOnce() {\\n        val source = ubyteArrayOf(1U, 2U, UByte.MAX_VALUE)\\n        var c = 0\\n        source.maxBy { c++ }\\n        assertEquals(3, c)\\n        c = 0\\n        source.maxByOrNull { c++ }\\n        assertEquals(3, c)\\n    }\\n    \\n    \\n    private inline fun &lt;R : Comparable&lt;R&gt;&gt; expectMinMaxOf(min: R, max: R, elements: UByteArray, selector: (UByte) -&gt; R) {\\n        assertEquals(min, elements.minOf(selector))\\n        assertEquals(min, elements.minOfOrNull(selector))\\n        assertEquals(max, elements.maxOf(selector))\\n        assertEquals(max, elements.maxOfOrNull(selector))\\n    }\\n    \\n    @Test\\n    fun minMaxOf() {\\n        expectMinMaxOf((0u - 1U).toUByte(), (0u - 1U).toUByte(), ubyteArrayOf(1U), { (0u - it).toUByte() })\\n        expectMinMaxOf((0u - 2U).toUByte(), (0u - 1U).toUByte(), ubyteArrayOf(1U, 2U), { (0u - it).toUByte() })\\n        expectMinMaxOf((0u - UByte.MAX_VALUE).toUByte(), (0u - 1U).toUByte(), ubyteArrayOf(1U, 2U, UByte.MAX_VALUE), { (0u - it).toUByte() })\\n\\n    }\\n    \\n    @Test\\n    fun minMaxOfDouble() {\\n        val middle = 2U\\n        val items = ubyteArrayOf(1U, 2U, UByte.MAX_VALUE).apply { shuffle() }</td>\n",
       "      <td>assertTrue(items.minOf { it.compareTo(middle).toDouble().pow(0.5) }.isNaN())</td>\n",
       "    </tr>\n",
       "    <tr>\n",
       "      <th>1000016</th>\n",
       "      <td>assertEquals(min, elements.minByOrNull(selector))\\n        assertEquals(max, elements.maxBy(selector))\\n        assertEquals(max, elements.maxByOrNull(selector))\\n    }\\n\\n    @Test\\n    fun minMaxBy() {\\n        expectMinMaxBy(1U, 1U, ubyteArrayOf(1U), { it })\\n        expectMinMaxBy(1U, 2U, ubyteArrayOf(1U, 2U), { it })\\n        expectMinMaxBy(1U, UByte.MAX_VALUE, ubyteArrayOf(1U, 2U, UByte.MAX_VALUE), { it })\\n\\n    }\\n\\n    @Test\\n    fun minMaxByEmpty() {\\n        val empty = ubyteArrayOf()\\n        assertNull(empty.minByOrNull { it.toString() })\\n        assertNull(empty.maxByOrNull { it.toString() })\\n        assertFailsWith&lt;NoSuchElementException&gt; { empty.minBy { it.toString() } }\\n        assertFailsWith&lt;NoSuchElementException&gt; { empty.maxBy { it.toString() } }                       \\n    }\\n\\n    @Test \\n    fun minBySelectorEvaluateOnce() {\\n        val source = ubyteArrayOf(1U, 2U, UByte.MAX_VALUE)\\n        var c = 0\\n        source.minBy { c++ }\\n        assertEquals(3, c)\\n        c = 0\\n        source.minByOrNull { c++ }\\n        assertEquals(3, c)\\n    }\\n\\n    @Test \\n    fun maxBySelectorEvaluateOnce() {\\n        val source = ubyteArrayOf(1U, 2U, UByte.MAX_VALUE)\\n        var c = 0\\n        source.maxBy { c++ }\\n        assertEquals(3, c)\\n        c = 0\\n        source.maxByOrNull { c++ }\\n        assertEquals(3, c)\\n    }\\n    \\n    \\n    private inline fun &lt;R : Comparable&lt;R&gt;&gt; expectMinMaxOf(min: R, max: R, elements: UByteArray, selector: (UByte) -&gt; R) {\\n        assertEquals(min, elements.minOf(selector))\\n        assertEquals(min, elements.minOfOrNull(selector))\\n        assertEquals(max, elements.maxOf(selector))\\n        assertEquals(max, elements.maxOfOrNull(selector))\\n    }\\n    \\n    @Test\\n    fun minMaxOf() {\\n        expectMinMaxOf((0u - 1U).toUByte(), (0u - 1U).toUByte(), ubyteArrayOf(1U), { (0u - it).toUByte() })\\n        expectMinMaxOf((0u - 2U).toUByte(), (0u - 1U).toUByte(), ubyteArrayOf(1U, 2U), { (0u - it).toUByte() })\\n        expectMinMaxOf((0u - UByte.MAX_VALUE).toUByte(), (0u - 1U).toUByte(), ubyteArrayOf(1U, 2U, UByte.MAX_VALUE), { (0u - it).toUByte() })\\n\\n    }\\n    \\n    @Test\\n    fun minMaxOfDouble() {\\n        val middle = 2U\\n        val items = ubyteArrayOf(1U, 2U, UByte.MAX_VALUE).apply { shuffle() }\\n        assertTrue(items.minOf { it.compareTo(middle).toDouble().pow(0.5) }.isNaN())</td>\n",
       "      <td>assertTrue(items.minOfOrNull { it.compareTo(middle).toDouble().pow(0.5) }!!.isNaN())</td>\n",
       "    </tr>\n",
       "    <tr>\n",
       "      <th>1000017</th>\n",
       "      <td>assertEquals(max, elements.maxBy(selector))\\n        assertEquals(max, elements.maxByOrNull(selector))\\n    }\\n\\n    @Test\\n    fun minMaxBy() {\\n        expectMinMaxBy(1U, 1U, ubyteArrayOf(1U), { it })\\n        expectMinMaxBy(1U, 2U, ubyteArrayOf(1U, 2U), { it })\\n        expectMinMaxBy(1U, UByte.MAX_VALUE, ubyteArrayOf(1U, 2U, UByte.MAX_VALUE), { it })\\n\\n    }\\n\\n    @Test\\n    fun minMaxByEmpty() {\\n        val empty = ubyteArrayOf()\\n        assertNull(empty.minByOrNull { it.toString() })\\n        assertNull(empty.maxByOrNull { it.toString() })\\n        assertFailsWith&lt;NoSuchElementException&gt; { empty.minBy { it.toString() } }\\n        assertFailsWith&lt;NoSuchElementException&gt; { empty.maxBy { it.toString() } }                       \\n    }\\n\\n    @Test \\n    fun minBySelectorEvaluateOnce() {\\n        val source = ubyteArrayOf(1U, 2U, UByte.MAX_VALUE)\\n        var c = 0\\n        source.minBy { c++ }\\n        assertEquals(3, c)\\n        c = 0\\n        source.minByOrNull { c++ }\\n        assertEquals(3, c)\\n    }\\n\\n    @Test \\n    fun maxBySelectorEvaluateOnce() {\\n        val source = ubyteArrayOf(1U, 2U, UByte.MAX_VALUE)\\n        var c = 0\\n        source.maxBy { c++ }\\n        assertEquals(3, c)\\n        c = 0\\n        source.maxByOrNull { c++ }\\n        assertEquals(3, c)\\n    }\\n    \\n    \\n    private inline fun &lt;R : Comparable&lt;R&gt;&gt; expectMinMaxOf(min: R, max: R, elements: UByteArray, selector: (UByte) -&gt; R) {\\n        assertEquals(min, elements.minOf(selector))\\n        assertEquals(min, elements.minOfOrNull(selector))\\n        assertEquals(max, elements.maxOf(selector))\\n        assertEquals(max, elements.maxOfOrNull(selector))\\n    }\\n    \\n    @Test\\n    fun minMaxOf() {\\n        expectMinMaxOf((0u - 1U).toUByte(), (0u - 1U).toUByte(), ubyteArrayOf(1U), { (0u - it).toUByte() })\\n        expectMinMaxOf((0u - 2U).toUByte(), (0u - 1U).toUByte(), ubyteArrayOf(1U, 2U), { (0u - it).toUByte() })\\n        expectMinMaxOf((0u - UByte.MAX_VALUE).toUByte(), (0u - 1U).toUByte(), ubyteArrayOf(1U, 2U, UByte.MAX_VALUE), { (0u - it).toUByte() })\\n\\n    }\\n    \\n    @Test\\n    fun minMaxOfDouble() {\\n        val middle = 2U\\n        val items = ubyteArrayOf(1U, 2U, UByte.MAX_VALUE).apply { shuffle() }\\n        assertTrue(items.minOf { it.compareTo(middle).toDouble().pow(0.5) }.isNaN())\\n        assertTrue(items.minOfOrNull { it.compareTo(middle).toDouble().pow(0.5) }!!.isNaN())</td>\n",
       "      <td>assertTrue(items.maxOf { it.compareTo(middle).toDouble().pow(0.5) }.isNaN())</td>\n",
       "    </tr>\n",
       "    <tr>\n",
       "      <th>1000018</th>\n",
       "      <td>assertEquals(max, elements.maxByOrNull(selector))\\n    }\\n\\n    @Test\\n    fun minMaxBy() {\\n        expectMinMaxBy(1U, 1U, ubyteArrayOf(1U), { it })\\n        expectMinMaxBy(1U, 2U, ubyteArrayOf(1U, 2U), { it })\\n        expectMinMaxBy(1U, UByte.MAX_VALUE, ubyteArrayOf(1U, 2U, UByte.MAX_VALUE), { it })\\n\\n    }\\n\\n    @Test\\n    fun minMaxByEmpty() {\\n        val empty = ubyteArrayOf()\\n        assertNull(empty.minByOrNull { it.toString() })\\n        assertNull(empty.maxByOrNull { it.toString() })\\n        assertFailsWith&lt;NoSuchElementException&gt; { empty.minBy { it.toString() } }\\n        assertFailsWith&lt;NoSuchElementException&gt; { empty.maxBy { it.toString() } }                       \\n    }\\n\\n    @Test \\n    fun minBySelectorEvaluateOnce() {\\n        val source = ubyteArrayOf(1U, 2U, UByte.MAX_VALUE)\\n        var c = 0\\n        source.minBy { c++ }\\n        assertEquals(3, c)\\n        c = 0\\n        source.minByOrNull { c++ }\\n        assertEquals(3, c)\\n    }\\n\\n    @Test \\n    fun maxBySelectorEvaluateOnce() {\\n        val source = ubyteArrayOf(1U, 2U, UByte.MAX_VALUE)\\n        var c = 0\\n        source.maxBy { c++ }\\n        assertEquals(3, c)\\n        c = 0\\n        source.maxByOrNull { c++ }\\n        assertEquals(3, c)\\n    }\\n    \\n    \\n    private inline fun &lt;R : Comparable&lt;R&gt;&gt; expectMinMaxOf(min: R, max: R, elements: UByteArray, selector: (UByte) -&gt; R) {\\n        assertEquals(min, elements.minOf(selector))\\n        assertEquals(min, elements.minOfOrNull(selector))\\n        assertEquals(max, elements.maxOf(selector))\\n        assertEquals(max, elements.maxOfOrNull(selector))\\n    }\\n    \\n    @Test\\n    fun minMaxOf() {\\n        expectMinMaxOf((0u - 1U).toUByte(), (0u - 1U).toUByte(), ubyteArrayOf(1U), { (0u - it).toUByte() })\\n        expectMinMaxOf((0u - 2U).toUByte(), (0u - 1U).toUByte(), ubyteArrayOf(1U, 2U), { (0u - it).toUByte() })\\n        expectMinMaxOf((0u - UByte.MAX_VALUE).toUByte(), (0u - 1U).toUByte(), ubyteArrayOf(1U, 2U, UByte.MAX_VALUE), { (0u - it).toUByte() })\\n\\n    }\\n    \\n    @Test\\n    fun minMaxOfDouble() {\\n        val middle = 2U\\n        val items = ubyteArrayOf(1U, 2U, UByte.MAX_VALUE).apply { shuffle() }\\n        assertTrue(items.minOf { it.compareTo(middle).toDouble().pow(0.5) }.isNaN())\\n        assertTrue(items.minOfOrNull { it.compareTo(middle).toDouble().pow(0.5) }!!.isNaN())\\n        assertTrue(items.maxOf { it.compareTo(middle).toDouble().pow(0.5) }.isNaN())</td>\n",
       "      <td>assertTrue(items.maxOfOrNull { it.compareTo(middle).toDouble().pow(0.5) }!!.isNaN())</td>\n",
       "    </tr>\n",
       "    <tr>\n",
       "      <th>1000019</th>\n",
       "      <td>}\\n\\n    @Test\\n    fun minMaxBy() {\\n        expectMinMaxBy(1U, 1U, ubyteArrayOf(1U), { it })\\n        expectMinMaxBy(1U, 2U, ubyteArrayOf(1U, 2U), { it })\\n        expectMinMaxBy(1U, UByte.MAX_VALUE, ubyteArrayOf(1U, 2U, UByte.MAX_VALUE), { it })\\n\\n    }\\n\\n    @Test\\n    fun minMaxByEmpty() {\\n        val empty = ubyteArrayOf()\\n        assertNull(empty.minByOrNull { it.toString() })\\n        assertNull(empty.maxByOrNull { it.toString() })\\n        assertFailsWith&lt;NoSuchElementException&gt; { empty.minBy { it.toString() } }\\n        assertFailsWith&lt;NoSuchElementException&gt; { empty.maxBy { it.toString() } }                       \\n    }\\n\\n    @Test \\n    fun minBySelectorEvaluateOnce() {\\n        val source = ubyteArrayOf(1U, 2U, UByte.MAX_VALUE)\\n        var c = 0\\n        source.minBy { c++ }\\n        assertEquals(3, c)\\n        c = 0\\n        source.minByOrNull { c++ }\\n        assertEquals(3, c)\\n    }\\n\\n    @Test \\n    fun maxBySelectorEvaluateOnce() {\\n        val source = ubyteArrayOf(1U, 2U, UByte.MAX_VALUE)\\n        var c = 0\\n        source.maxBy { c++ }\\n        assertEquals(3, c)\\n        c = 0\\n        source.maxByOrNull { c++ }\\n        assertEquals(3, c)\\n    }\\n    \\n    \\n    private inline fun &lt;R : Comparable&lt;R&gt;&gt; expectMinMaxOf(min: R, max: R, elements: UByteArray, selector: (UByte) -&gt; R) {\\n        assertEquals(min, elements.minOf(selector))\\n        assertEquals(min, elements.minOfOrNull(selector))\\n        assertEquals(max, elements.maxOf(selector))\\n        assertEquals(max, elements.maxOfOrNull(selector))\\n    }\\n    \\n    @Test\\n    fun minMaxOf() {\\n        expectMinMaxOf((0u - 1U).toUByte(), (0u - 1U).toUByte(), ubyteArrayOf(1U), { (0u - it).toUByte() })\\n        expectMinMaxOf((0u - 2U).toUByte(), (0u - 1U).toUByte(), ubyteArrayOf(1U, 2U), { (0u - it).toUByte() })\\n        expectMinMaxOf((0u - UByte.MAX_VALUE).toUByte(), (0u - 1U).toUByte(), ubyteArrayOf(1U, 2U, UByte.MAX_VALUE), { (0u - it).toUByte() })\\n\\n    }\\n    \\n    @Test\\n    fun minMaxOfDouble() {\\n        val middle = 2U\\n        val items = ubyteArrayOf(1U, 2U, UByte.MAX_VALUE).apply { shuffle() }\\n        assertTrue(items.minOf { it.compareTo(middle).toDouble().pow(0.5) }.isNaN())\\n        assertTrue(items.minOfOrNull { it.compareTo(middle).toDouble().pow(0.5) }!!.isNaN())\\n        assertTrue(items.maxOf { it.compareTo(middle).toDouble().pow(0.5) }.isNaN())\\n        assertTrue(items.maxOfOrNull { it.compareTo(middle).toDouble().pow(0.5) }!!.isNaN())</td>\n",
       "      <td>NaN</td>\n",
       "    </tr>\n",
       "  </tbody>\n",
       "</table>\n",
       "</div>"
      ],
      "text/plain": [
       "                                                                                                                                                                                                                                                                                                                                                                                                                                                                                                                                                                                                                                                                                                                                                                                                                                                                                                                                                                                                                                                                                                                                                                                                                                                                                                                                                                                                                                                                                                                                                                                                                                                                                                                                                                                                                                                                                                                                                                                                                                                                                                                                                                                                                                                                                                                                                                                                                                                                                                                                                                                                                                                        Context  \\\n",
       "999999                                                                                                                                                                                                                expectMinMaxWith(1U, 2U, ubyteArrayOf(1U, 2U), naturalOrder())\\n        expectMinMaxWith(1U, UByte.MAX_VALUE, ubyteArrayOf(1U, 2U, UByte.MAX_VALUE), naturalOrder())\\n\\n    }\\n\\n    @Test\\n    fun minMaxWithEmpty() {\\n        val empty = ubyteArrayOf()\\n        assertNull(empty.minWithOrNull(naturalOrder()))\\n        assertNull(empty.maxWithOrNull(naturalOrder()))\\n        assertFailsWith<NoSuchElementException> { empty.minWith(naturalOrder()) }\\n        assertFailsWith<NoSuchElementException> { empty.maxWith(naturalOrder()) }\\n    }\\n\\n\\n    private inline fun <K : Comparable<K>> expectMinMaxBy(min: UByte, max: UByte, elements: UByteArray, selector: (UByte) -> K) {\\n        assertEquals(min, elements.minBy(selector))\\n        assertEquals(min, elements.minByOrNull(selector))\\n        assertEquals(max, elements.maxBy(selector))\\n        assertEquals(max, elements.maxByOrNull(selector))\\n    }\\n\\n    @Test\\n    fun minMaxBy() {\\n        expectMinMaxBy(1U, 1U, ubyteArrayOf(1U), { it })\\n        expectMinMaxBy(1U, 2U, ubyteArrayOf(1U, 2U), { it })\\n        expectMinMaxBy(1U, UByte.MAX_VALUE, ubyteArrayOf(1U, 2U, UByte.MAX_VALUE), { it })\\n\\n    }\\n\\n    @Test\\n    fun minMaxByEmpty() {\\n        val empty = ubyteArrayOf()\\n        assertNull(empty.minByOrNull { it.toString() })\\n        assertNull(empty.maxByOrNull { it.toString() })\\n        assertFailsWith<NoSuchElementException> { empty.minBy { it.toString() } }\\n        assertFailsWith<NoSuchElementException> { empty.maxBy { it.toString() } }                       \\n    }\\n\\n    @Test \\n    fun minBySelectorEvaluateOnce() {\\n        val source = ubyteArrayOf(1U, 2U, UByte.MAX_VALUE)\\n        var c = 0\\n        source.minBy { c++ }\\n        assertEquals(3, c)\\n        c = 0\\n        source.minByOrNull { c++ }\\n        assertEquals(3, c)\\n    }\\n\\n    @Test \\n    fun maxBySelectorEvaluateOnce() {\\n        val source = ubyteArrayOf(1U, 2U, UByte.MAX_VALUE)\\n        var c = 0\\n        source.maxBy { c++ }\\n        assertEquals(3, c)\\n        c = 0\\n        source.maxByOrNull { c++ }\\n        assertEquals(3, c)\\n    }\\n    \\n    \\n    private inline fun <R : Comparable<R>> expectMinMaxOf(min: R, max: R, elements: UByteArray, selector: (UByte) -> R) {\\n        assertEquals(min, elements.minOf(selector))\\n        assertEquals(min, elements.minOfOrNull(selector))   \n",
       "1000000                                                                                                                                                                                                                                  expectMinMaxWith(1U, UByte.MAX_VALUE, ubyteArrayOf(1U, 2U, UByte.MAX_VALUE), naturalOrder())\\n\\n    }\\n\\n    @Test\\n    fun minMaxWithEmpty() {\\n        val empty = ubyteArrayOf()\\n        assertNull(empty.minWithOrNull(naturalOrder()))\\n        assertNull(empty.maxWithOrNull(naturalOrder()))\\n        assertFailsWith<NoSuchElementException> { empty.minWith(naturalOrder()) }\\n        assertFailsWith<NoSuchElementException> { empty.maxWith(naturalOrder()) }\\n    }\\n\\n\\n    private inline fun <K : Comparable<K>> expectMinMaxBy(min: UByte, max: UByte, elements: UByteArray, selector: (UByte) -> K) {\\n        assertEquals(min, elements.minBy(selector))\\n        assertEquals(min, elements.minByOrNull(selector))\\n        assertEquals(max, elements.maxBy(selector))\\n        assertEquals(max, elements.maxByOrNull(selector))\\n    }\\n\\n    @Test\\n    fun minMaxBy() {\\n        expectMinMaxBy(1U, 1U, ubyteArrayOf(1U), { it })\\n        expectMinMaxBy(1U, 2U, ubyteArrayOf(1U, 2U), { it })\\n        expectMinMaxBy(1U, UByte.MAX_VALUE, ubyteArrayOf(1U, 2U, UByte.MAX_VALUE), { it })\\n\\n    }\\n\\n    @Test\\n    fun minMaxByEmpty() {\\n        val empty = ubyteArrayOf()\\n        assertNull(empty.minByOrNull { it.toString() })\\n        assertNull(empty.maxByOrNull { it.toString() })\\n        assertFailsWith<NoSuchElementException> { empty.minBy { it.toString() } }\\n        assertFailsWith<NoSuchElementException> { empty.maxBy { it.toString() } }                       \\n    }\\n\\n    @Test \\n    fun minBySelectorEvaluateOnce() {\\n        val source = ubyteArrayOf(1U, 2U, UByte.MAX_VALUE)\\n        var c = 0\\n        source.minBy { c++ }\\n        assertEquals(3, c)\\n        c = 0\\n        source.minByOrNull { c++ }\\n        assertEquals(3, c)\\n    }\\n\\n    @Test \\n    fun maxBySelectorEvaluateOnce() {\\n        val source = ubyteArrayOf(1U, 2U, UByte.MAX_VALUE)\\n        var c = 0\\n        source.maxBy { c++ }\\n        assertEquals(3, c)\\n        c = 0\\n        source.maxByOrNull { c++ }\\n        assertEquals(3, c)\\n    }\\n    \\n    \\n    private inline fun <R : Comparable<R>> expectMinMaxOf(min: R, max: R, elements: UByteArray, selector: (UByte) -> R) {\\n        assertEquals(min, elements.minOf(selector))\\n        assertEquals(min, elements.minOfOrNull(selector))\\n        assertEquals(max, elements.maxOf(selector))   \n",
       "1000001                                                                                                                                                                                                                                                                           }\\n\\n    @Test\\n    fun minMaxWithEmpty() {\\n        val empty = ubyteArrayOf()\\n        assertNull(empty.minWithOrNull(naturalOrder()))\\n        assertNull(empty.maxWithOrNull(naturalOrder()))\\n        assertFailsWith<NoSuchElementException> { empty.minWith(naturalOrder()) }\\n        assertFailsWith<NoSuchElementException> { empty.maxWith(naturalOrder()) }\\n    }\\n\\n\\n    private inline fun <K : Comparable<K>> expectMinMaxBy(min: UByte, max: UByte, elements: UByteArray, selector: (UByte) -> K) {\\n        assertEquals(min, elements.minBy(selector))\\n        assertEquals(min, elements.minByOrNull(selector))\\n        assertEquals(max, elements.maxBy(selector))\\n        assertEquals(max, elements.maxByOrNull(selector))\\n    }\\n\\n    @Test\\n    fun minMaxBy() {\\n        expectMinMaxBy(1U, 1U, ubyteArrayOf(1U), { it })\\n        expectMinMaxBy(1U, 2U, ubyteArrayOf(1U, 2U), { it })\\n        expectMinMaxBy(1U, UByte.MAX_VALUE, ubyteArrayOf(1U, 2U, UByte.MAX_VALUE), { it })\\n\\n    }\\n\\n    @Test\\n    fun minMaxByEmpty() {\\n        val empty = ubyteArrayOf()\\n        assertNull(empty.minByOrNull { it.toString() })\\n        assertNull(empty.maxByOrNull { it.toString() })\\n        assertFailsWith<NoSuchElementException> { empty.minBy { it.toString() } }\\n        assertFailsWith<NoSuchElementException> { empty.maxBy { it.toString() } }                       \\n    }\\n\\n    @Test \\n    fun minBySelectorEvaluateOnce() {\\n        val source = ubyteArrayOf(1U, 2U, UByte.MAX_VALUE)\\n        var c = 0\\n        source.minBy { c++ }\\n        assertEquals(3, c)\\n        c = 0\\n        source.minByOrNull { c++ }\\n        assertEquals(3, c)\\n    }\\n\\n    @Test \\n    fun maxBySelectorEvaluateOnce() {\\n        val source = ubyteArrayOf(1U, 2U, UByte.MAX_VALUE)\\n        var c = 0\\n        source.maxBy { c++ }\\n        assertEquals(3, c)\\n        c = 0\\n        source.maxByOrNull { c++ }\\n        assertEquals(3, c)\\n    }\\n    \\n    \\n    private inline fun <R : Comparable<R>> expectMinMaxOf(min: R, max: R, elements: UByteArray, selector: (UByte) -> R) {\\n        assertEquals(min, elements.minOf(selector))\\n        assertEquals(min, elements.minOfOrNull(selector))\\n        assertEquals(max, elements.maxOf(selector))\\n        assertEquals(max, elements.maxOfOrNull(selector))   \n",
       "1000002                                                                                                                                                                                                                                                                    }\\n\\n    @Test\\n    fun minMaxWithEmpty() {\\n        val empty = ubyteArrayOf()\\n        assertNull(empty.minWithOrNull(naturalOrder()))\\n        assertNull(empty.maxWithOrNull(naturalOrder()))\\n        assertFailsWith<NoSuchElementException> { empty.minWith(naturalOrder()) }\\n        assertFailsWith<NoSuchElementException> { empty.maxWith(naturalOrder()) }\\n    }\\n\\n\\n    private inline fun <K : Comparable<K>> expectMinMaxBy(min: UByte, max: UByte, elements: UByteArray, selector: (UByte) -> K) {\\n        assertEquals(min, elements.minBy(selector))\\n        assertEquals(min, elements.minByOrNull(selector))\\n        assertEquals(max, elements.maxBy(selector))\\n        assertEquals(max, elements.maxByOrNull(selector))\\n    }\\n\\n    @Test\\n    fun minMaxBy() {\\n        expectMinMaxBy(1U, 1U, ubyteArrayOf(1U), { it })\\n        expectMinMaxBy(1U, 2U, ubyteArrayOf(1U, 2U), { it })\\n        expectMinMaxBy(1U, UByte.MAX_VALUE, ubyteArrayOf(1U, 2U, UByte.MAX_VALUE), { it })\\n\\n    }\\n\\n    @Test\\n    fun minMaxByEmpty() {\\n        val empty = ubyteArrayOf()\\n        assertNull(empty.minByOrNull { it.toString() })\\n        assertNull(empty.maxByOrNull { it.toString() })\\n        assertFailsWith<NoSuchElementException> { empty.minBy { it.toString() } }\\n        assertFailsWith<NoSuchElementException> { empty.maxBy { it.toString() } }                       \\n    }\\n\\n    @Test \\n    fun minBySelectorEvaluateOnce() {\\n        val source = ubyteArrayOf(1U, 2U, UByte.MAX_VALUE)\\n        var c = 0\\n        source.minBy { c++ }\\n        assertEquals(3, c)\\n        c = 0\\n        source.minByOrNull { c++ }\\n        assertEquals(3, c)\\n    }\\n\\n    @Test \\n    fun maxBySelectorEvaluateOnce() {\\n        val source = ubyteArrayOf(1U, 2U, UByte.MAX_VALUE)\\n        var c = 0\\n        source.maxBy { c++ }\\n        assertEquals(3, c)\\n        c = 0\\n        source.maxByOrNull { c++ }\\n        assertEquals(3, c)\\n    }\\n    \\n    \\n    private inline fun <R : Comparable<R>> expectMinMaxOf(min: R, max: R, elements: UByteArray, selector: (UByte) -> R) {\\n        assertEquals(min, elements.minOf(selector))\\n        assertEquals(min, elements.minOfOrNull(selector))\\n        assertEquals(max, elements.maxOf(selector))\\n        assertEquals(max, elements.maxOfOrNull(selector))\\n    }   \n",
       "1000003                                                                                                                                                                                                                                                                             @Test\\n    fun minMaxWithEmpty() {\\n        val empty = ubyteArrayOf()\\n        assertNull(empty.minWithOrNull(naturalOrder()))\\n        assertNull(empty.maxWithOrNull(naturalOrder()))\\n        assertFailsWith<NoSuchElementException> { empty.minWith(naturalOrder()) }\\n        assertFailsWith<NoSuchElementException> { empty.maxWith(naturalOrder()) }\\n    }\\n\\n\\n    private inline fun <K : Comparable<K>> expectMinMaxBy(min: UByte, max: UByte, elements: UByteArray, selector: (UByte) -> K) {\\n        assertEquals(min, elements.minBy(selector))\\n        assertEquals(min, elements.minByOrNull(selector))\\n        assertEquals(max, elements.maxBy(selector))\\n        assertEquals(max, elements.maxByOrNull(selector))\\n    }\\n\\n    @Test\\n    fun minMaxBy() {\\n        expectMinMaxBy(1U, 1U, ubyteArrayOf(1U), { it })\\n        expectMinMaxBy(1U, 2U, ubyteArrayOf(1U, 2U), { it })\\n        expectMinMaxBy(1U, UByte.MAX_VALUE, ubyteArrayOf(1U, 2U, UByte.MAX_VALUE), { it })\\n\\n    }\\n\\n    @Test\\n    fun minMaxByEmpty() {\\n        val empty = ubyteArrayOf()\\n        assertNull(empty.minByOrNull { it.toString() })\\n        assertNull(empty.maxByOrNull { it.toString() })\\n        assertFailsWith<NoSuchElementException> { empty.minBy { it.toString() } }\\n        assertFailsWith<NoSuchElementException> { empty.maxBy { it.toString() } }                       \\n    }\\n\\n    @Test \\n    fun minBySelectorEvaluateOnce() {\\n        val source = ubyteArrayOf(1U, 2U, UByte.MAX_VALUE)\\n        var c = 0\\n        source.minBy { c++ }\\n        assertEquals(3, c)\\n        c = 0\\n        source.minByOrNull { c++ }\\n        assertEquals(3, c)\\n    }\\n\\n    @Test \\n    fun maxBySelectorEvaluateOnce() {\\n        val source = ubyteArrayOf(1U, 2U, UByte.MAX_VALUE)\\n        var c = 0\\n        source.maxBy { c++ }\\n        assertEquals(3, c)\\n        c = 0\\n        source.maxByOrNull { c++ }\\n        assertEquals(3, c)\\n    }\\n    \\n    \\n    private inline fun <R : Comparable<R>> expectMinMaxOf(min: R, max: R, elements: UByteArray, selector: (UByte) -> R) {\\n        assertEquals(min, elements.minOf(selector))\\n        assertEquals(min, elements.minOfOrNull(selector))\\n        assertEquals(max, elements.maxOf(selector))\\n        assertEquals(max, elements.maxOfOrNull(selector))\\n    }   \n",
       "1000004                                                                                                                                                                                                                                                            @Test\\n    fun minMaxWithEmpty() {\\n        val empty = ubyteArrayOf()\\n        assertNull(empty.minWithOrNull(naturalOrder()))\\n        assertNull(empty.maxWithOrNull(naturalOrder()))\\n        assertFailsWith<NoSuchElementException> { empty.minWith(naturalOrder()) }\\n        assertFailsWith<NoSuchElementException> { empty.maxWith(naturalOrder()) }\\n    }\\n\\n\\n    private inline fun <K : Comparable<K>> expectMinMaxBy(min: UByte, max: UByte, elements: UByteArray, selector: (UByte) -> K) {\\n        assertEquals(min, elements.minBy(selector))\\n        assertEquals(min, elements.minByOrNull(selector))\\n        assertEquals(max, elements.maxBy(selector))\\n        assertEquals(max, elements.maxByOrNull(selector))\\n    }\\n\\n    @Test\\n    fun minMaxBy() {\\n        expectMinMaxBy(1U, 1U, ubyteArrayOf(1U), { it })\\n        expectMinMaxBy(1U, 2U, ubyteArrayOf(1U, 2U), { it })\\n        expectMinMaxBy(1U, UByte.MAX_VALUE, ubyteArrayOf(1U, 2U, UByte.MAX_VALUE), { it })\\n\\n    }\\n\\n    @Test\\n    fun minMaxByEmpty() {\\n        val empty = ubyteArrayOf()\\n        assertNull(empty.minByOrNull { it.toString() })\\n        assertNull(empty.maxByOrNull { it.toString() })\\n        assertFailsWith<NoSuchElementException> { empty.minBy { it.toString() } }\\n        assertFailsWith<NoSuchElementException> { empty.maxBy { it.toString() } }                       \\n    }\\n\\n    @Test \\n    fun minBySelectorEvaluateOnce() {\\n        val source = ubyteArrayOf(1U, 2U, UByte.MAX_VALUE)\\n        var c = 0\\n        source.minBy { c++ }\\n        assertEquals(3, c)\\n        c = 0\\n        source.minByOrNull { c++ }\\n        assertEquals(3, c)\\n    }\\n\\n    @Test \\n    fun maxBySelectorEvaluateOnce() {\\n        val source = ubyteArrayOf(1U, 2U, UByte.MAX_VALUE)\\n        var c = 0\\n        source.maxBy { c++ }\\n        assertEquals(3, c)\\n        c = 0\\n        source.maxByOrNull { c++ }\\n        assertEquals(3, c)\\n    }\\n    \\n    \\n    private inline fun <R : Comparable<R>> expectMinMaxOf(min: R, max: R, elements: UByteArray, selector: (UByte) -> R) {\\n        assertEquals(min, elements.minOf(selector))\\n        assertEquals(min, elements.minOfOrNull(selector))\\n        assertEquals(max, elements.maxOf(selector))\\n        assertEquals(max, elements.maxOfOrNull(selector))\\n    }\\n    \\n    @Test   \n",
       "1000005                                                                                                                                                                                                                                                 fun minMaxWithEmpty() {\\n        val empty = ubyteArrayOf()\\n        assertNull(empty.minWithOrNull(naturalOrder()))\\n        assertNull(empty.maxWithOrNull(naturalOrder()))\\n        assertFailsWith<NoSuchElementException> { empty.minWith(naturalOrder()) }\\n        assertFailsWith<NoSuchElementException> { empty.maxWith(naturalOrder()) }\\n    }\\n\\n\\n    private inline fun <K : Comparable<K>> expectMinMaxBy(min: UByte, max: UByte, elements: UByteArray, selector: (UByte) -> K) {\\n        assertEquals(min, elements.minBy(selector))\\n        assertEquals(min, elements.minByOrNull(selector))\\n        assertEquals(max, elements.maxBy(selector))\\n        assertEquals(max, elements.maxByOrNull(selector))\\n    }\\n\\n    @Test\\n    fun minMaxBy() {\\n        expectMinMaxBy(1U, 1U, ubyteArrayOf(1U), { it })\\n        expectMinMaxBy(1U, 2U, ubyteArrayOf(1U, 2U), { it })\\n        expectMinMaxBy(1U, UByte.MAX_VALUE, ubyteArrayOf(1U, 2U, UByte.MAX_VALUE), { it })\\n\\n    }\\n\\n    @Test\\n    fun minMaxByEmpty() {\\n        val empty = ubyteArrayOf()\\n        assertNull(empty.minByOrNull { it.toString() })\\n        assertNull(empty.maxByOrNull { it.toString() })\\n        assertFailsWith<NoSuchElementException> { empty.minBy { it.toString() } }\\n        assertFailsWith<NoSuchElementException> { empty.maxBy { it.toString() } }                       \\n    }\\n\\n    @Test \\n    fun minBySelectorEvaluateOnce() {\\n        val source = ubyteArrayOf(1U, 2U, UByte.MAX_VALUE)\\n        var c = 0\\n        source.minBy { c++ }\\n        assertEquals(3, c)\\n        c = 0\\n        source.minByOrNull { c++ }\\n        assertEquals(3, c)\\n    }\\n\\n    @Test \\n    fun maxBySelectorEvaluateOnce() {\\n        val source = ubyteArrayOf(1U, 2U, UByte.MAX_VALUE)\\n        var c = 0\\n        source.maxBy { c++ }\\n        assertEquals(3, c)\\n        c = 0\\n        source.maxByOrNull { c++ }\\n        assertEquals(3, c)\\n    }\\n    \\n    \\n    private inline fun <R : Comparable<R>> expectMinMaxOf(min: R, max: R, elements: UByteArray, selector: (UByte) -> R) {\\n        assertEquals(min, elements.minOf(selector))\\n        assertEquals(min, elements.minOfOrNull(selector))\\n        assertEquals(max, elements.maxOf(selector))\\n        assertEquals(max, elements.maxOfOrNull(selector))\\n    }\\n    \\n    @Test\\n    fun minMaxOf() {   \n",
       "1000006                                                                                                                                                                     val empty = ubyteArrayOf()\\n        assertNull(empty.minWithOrNull(naturalOrder()))\\n        assertNull(empty.maxWithOrNull(naturalOrder()))\\n        assertFailsWith<NoSuchElementException> { empty.minWith(naturalOrder()) }\\n        assertFailsWith<NoSuchElementException> { empty.maxWith(naturalOrder()) }\\n    }\\n\\n\\n    private inline fun <K : Comparable<K>> expectMinMaxBy(min: UByte, max: UByte, elements: UByteArray, selector: (UByte) -> K) {\\n        assertEquals(min, elements.minBy(selector))\\n        assertEquals(min, elements.minByOrNull(selector))\\n        assertEquals(max, elements.maxBy(selector))\\n        assertEquals(max, elements.maxByOrNull(selector))\\n    }\\n\\n    @Test\\n    fun minMaxBy() {\\n        expectMinMaxBy(1U, 1U, ubyteArrayOf(1U), { it })\\n        expectMinMaxBy(1U, 2U, ubyteArrayOf(1U, 2U), { it })\\n        expectMinMaxBy(1U, UByte.MAX_VALUE, ubyteArrayOf(1U, 2U, UByte.MAX_VALUE), { it })\\n\\n    }\\n\\n    @Test\\n    fun minMaxByEmpty() {\\n        val empty = ubyteArrayOf()\\n        assertNull(empty.minByOrNull { it.toString() })\\n        assertNull(empty.maxByOrNull { it.toString() })\\n        assertFailsWith<NoSuchElementException> { empty.minBy { it.toString() } }\\n        assertFailsWith<NoSuchElementException> { empty.maxBy { it.toString() } }                       \\n    }\\n\\n    @Test \\n    fun minBySelectorEvaluateOnce() {\\n        val source = ubyteArrayOf(1U, 2U, UByte.MAX_VALUE)\\n        var c = 0\\n        source.minBy { c++ }\\n        assertEquals(3, c)\\n        c = 0\\n        source.minByOrNull { c++ }\\n        assertEquals(3, c)\\n    }\\n\\n    @Test \\n    fun maxBySelectorEvaluateOnce() {\\n        val source = ubyteArrayOf(1U, 2U, UByte.MAX_VALUE)\\n        var c = 0\\n        source.maxBy { c++ }\\n        assertEquals(3, c)\\n        c = 0\\n        source.maxByOrNull { c++ }\\n        assertEquals(3, c)\\n    }\\n    \\n    \\n    private inline fun <R : Comparable<R>> expectMinMaxOf(min: R, max: R, elements: UByteArray, selector: (UByte) -> R) {\\n        assertEquals(min, elements.minOf(selector))\\n        assertEquals(min, elements.minOfOrNull(selector))\\n        assertEquals(max, elements.maxOf(selector))\\n        assertEquals(max, elements.maxOfOrNull(selector))\\n    }\\n    \\n    @Test\\n    fun minMaxOf() {\\n        expectMinMaxOf((0u - 1U).toUByte(), (0u - 1U).toUByte(), ubyteArrayOf(1U), { (0u - it).toUByte() })   \n",
       "1000007                                                                                        assertNull(empty.minWithOrNull(naturalOrder()))\\n        assertNull(empty.maxWithOrNull(naturalOrder()))\\n        assertFailsWith<NoSuchElementException> { empty.minWith(naturalOrder()) }\\n        assertFailsWith<NoSuchElementException> { empty.maxWith(naturalOrder()) }\\n    }\\n\\n\\n    private inline fun <K : Comparable<K>> expectMinMaxBy(min: UByte, max: UByte, elements: UByteArray, selector: (UByte) -> K) {\\n        assertEquals(min, elements.minBy(selector))\\n        assertEquals(min, elements.minByOrNull(selector))\\n        assertEquals(max, elements.maxBy(selector))\\n        assertEquals(max, elements.maxByOrNull(selector))\\n    }\\n\\n    @Test\\n    fun minMaxBy() {\\n        expectMinMaxBy(1U, 1U, ubyteArrayOf(1U), { it })\\n        expectMinMaxBy(1U, 2U, ubyteArrayOf(1U, 2U), { it })\\n        expectMinMaxBy(1U, UByte.MAX_VALUE, ubyteArrayOf(1U, 2U, UByte.MAX_VALUE), { it })\\n\\n    }\\n\\n    @Test\\n    fun minMaxByEmpty() {\\n        val empty = ubyteArrayOf()\\n        assertNull(empty.minByOrNull { it.toString() })\\n        assertNull(empty.maxByOrNull { it.toString() })\\n        assertFailsWith<NoSuchElementException> { empty.minBy { it.toString() } }\\n        assertFailsWith<NoSuchElementException> { empty.maxBy { it.toString() } }                       \\n    }\\n\\n    @Test \\n    fun minBySelectorEvaluateOnce() {\\n        val source = ubyteArrayOf(1U, 2U, UByte.MAX_VALUE)\\n        var c = 0\\n        source.minBy { c++ }\\n        assertEquals(3, c)\\n        c = 0\\n        source.minByOrNull { c++ }\\n        assertEquals(3, c)\\n    }\\n\\n    @Test \\n    fun maxBySelectorEvaluateOnce() {\\n        val source = ubyteArrayOf(1U, 2U, UByte.MAX_VALUE)\\n        var c = 0\\n        source.maxBy { c++ }\\n        assertEquals(3, c)\\n        c = 0\\n        source.maxByOrNull { c++ }\\n        assertEquals(3, c)\\n    }\\n    \\n    \\n    private inline fun <R : Comparable<R>> expectMinMaxOf(min: R, max: R, elements: UByteArray, selector: (UByte) -> R) {\\n        assertEquals(min, elements.minOf(selector))\\n        assertEquals(min, elements.minOfOrNull(selector))\\n        assertEquals(max, elements.maxOf(selector))\\n        assertEquals(max, elements.maxOfOrNull(selector))\\n    }\\n    \\n    @Test\\n    fun minMaxOf() {\\n        expectMinMaxOf((0u - 1U).toUByte(), (0u - 1U).toUByte(), ubyteArrayOf(1U), { (0u - it).toUByte() })\\n        expectMinMaxOf((0u - 2U).toUByte(), (0u - 1U).toUByte(), ubyteArrayOf(1U, 2U), { (0u - it).toUByte() })   \n",
       "1000008  assertNull(empty.maxWithOrNull(naturalOrder()))\\n        assertFailsWith<NoSuchElementException> { empty.minWith(naturalOrder()) }\\n        assertFailsWith<NoSuchElementException> { empty.maxWith(naturalOrder()) }\\n    }\\n\\n\\n    private inline fun <K : Comparable<K>> expectMinMaxBy(min: UByte, max: UByte, elements: UByteArray, selector: (UByte) -> K) {\\n        assertEquals(min, elements.minBy(selector))\\n        assertEquals(min, elements.minByOrNull(selector))\\n        assertEquals(max, elements.maxBy(selector))\\n        assertEquals(max, elements.maxByOrNull(selector))\\n    }\\n\\n    @Test\\n    fun minMaxBy() {\\n        expectMinMaxBy(1U, 1U, ubyteArrayOf(1U), { it })\\n        expectMinMaxBy(1U, 2U, ubyteArrayOf(1U, 2U), { it })\\n        expectMinMaxBy(1U, UByte.MAX_VALUE, ubyteArrayOf(1U, 2U, UByte.MAX_VALUE), { it })\\n\\n    }\\n\\n    @Test\\n    fun minMaxByEmpty() {\\n        val empty = ubyteArrayOf()\\n        assertNull(empty.minByOrNull { it.toString() })\\n        assertNull(empty.maxByOrNull { it.toString() })\\n        assertFailsWith<NoSuchElementException> { empty.minBy { it.toString() } }\\n        assertFailsWith<NoSuchElementException> { empty.maxBy { it.toString() } }                       \\n    }\\n\\n    @Test \\n    fun minBySelectorEvaluateOnce() {\\n        val source = ubyteArrayOf(1U, 2U, UByte.MAX_VALUE)\\n        var c = 0\\n        source.minBy { c++ }\\n        assertEquals(3, c)\\n        c = 0\\n        source.minByOrNull { c++ }\\n        assertEquals(3, c)\\n    }\\n\\n    @Test \\n    fun maxBySelectorEvaluateOnce() {\\n        val source = ubyteArrayOf(1U, 2U, UByte.MAX_VALUE)\\n        var c = 0\\n        source.maxBy { c++ }\\n        assertEquals(3, c)\\n        c = 0\\n        source.maxByOrNull { c++ }\\n        assertEquals(3, c)\\n    }\\n    \\n    \\n    private inline fun <R : Comparable<R>> expectMinMaxOf(min: R, max: R, elements: UByteArray, selector: (UByte) -> R) {\\n        assertEquals(min, elements.minOf(selector))\\n        assertEquals(min, elements.minOfOrNull(selector))\\n        assertEquals(max, elements.maxOf(selector))\\n        assertEquals(max, elements.maxOfOrNull(selector))\\n    }\\n    \\n    @Test\\n    fun minMaxOf() {\\n        expectMinMaxOf((0u - 1U).toUByte(), (0u - 1U).toUByte(), ubyteArrayOf(1U), { (0u - it).toUByte() })\\n        expectMinMaxOf((0u - 2U).toUByte(), (0u - 1U).toUByte(), ubyteArrayOf(1U, 2U), { (0u - it).toUByte() })\\n        expectMinMaxOf((0u - UByte.MAX_VALUE).toUByte(), (0u - 1U).toUByte(), ubyteArrayOf(1U, 2U, UByte.MAX_VALUE), { (0u - it).toUByte() })   \n",
       "1000009                                                           assertFailsWith<NoSuchElementException> { empty.minWith(naturalOrder()) }\\n        assertFailsWith<NoSuchElementException> { empty.maxWith(naturalOrder()) }\\n    }\\n\\n\\n    private inline fun <K : Comparable<K>> expectMinMaxBy(min: UByte, max: UByte, elements: UByteArray, selector: (UByte) -> K) {\\n        assertEquals(min, elements.minBy(selector))\\n        assertEquals(min, elements.minByOrNull(selector))\\n        assertEquals(max, elements.maxBy(selector))\\n        assertEquals(max, elements.maxByOrNull(selector))\\n    }\\n\\n    @Test\\n    fun minMaxBy() {\\n        expectMinMaxBy(1U, 1U, ubyteArrayOf(1U), { it })\\n        expectMinMaxBy(1U, 2U, ubyteArrayOf(1U, 2U), { it })\\n        expectMinMaxBy(1U, UByte.MAX_VALUE, ubyteArrayOf(1U, 2U, UByte.MAX_VALUE), { it })\\n\\n    }\\n\\n    @Test\\n    fun minMaxByEmpty() {\\n        val empty = ubyteArrayOf()\\n        assertNull(empty.minByOrNull { it.toString() })\\n        assertNull(empty.maxByOrNull { it.toString() })\\n        assertFailsWith<NoSuchElementException> { empty.minBy { it.toString() } }\\n        assertFailsWith<NoSuchElementException> { empty.maxBy { it.toString() } }                       \\n    }\\n\\n    @Test \\n    fun minBySelectorEvaluateOnce() {\\n        val source = ubyteArrayOf(1U, 2U, UByte.MAX_VALUE)\\n        var c = 0\\n        source.minBy { c++ }\\n        assertEquals(3, c)\\n        c = 0\\n        source.minByOrNull { c++ }\\n        assertEquals(3, c)\\n    }\\n\\n    @Test \\n    fun maxBySelectorEvaluateOnce() {\\n        val source = ubyteArrayOf(1U, 2U, UByte.MAX_VALUE)\\n        var c = 0\\n        source.maxBy { c++ }\\n        assertEquals(3, c)\\n        c = 0\\n        source.maxByOrNull { c++ }\\n        assertEquals(3, c)\\n    }\\n    \\n    \\n    private inline fun <R : Comparable<R>> expectMinMaxOf(min: R, max: R, elements: UByteArray, selector: (UByte) -> R) {\\n        assertEquals(min, elements.minOf(selector))\\n        assertEquals(min, elements.minOfOrNull(selector))\\n        assertEquals(max, elements.maxOf(selector))\\n        assertEquals(max, elements.maxOfOrNull(selector))\\n    }\\n    \\n    @Test\\n    fun minMaxOf() {\\n        expectMinMaxOf((0u - 1U).toUByte(), (0u - 1U).toUByte(), ubyteArrayOf(1U), { (0u - it).toUByte() })\\n        expectMinMaxOf((0u - 2U).toUByte(), (0u - 1U).toUByte(), ubyteArrayOf(1U, 2U), { (0u - it).toUByte() })\\n        expectMinMaxOf((0u - UByte.MAX_VALUE).toUByte(), (0u - 1U).toUByte(), ubyteArrayOf(1U, 2U, UByte.MAX_VALUE), { (0u - it).toUByte() })   \n",
       "1000010                                                                                                                                     assertFailsWith<NoSuchElementException> { empty.maxWith(naturalOrder()) }\\n    }\\n\\n\\n    private inline fun <K : Comparable<K>> expectMinMaxBy(min: UByte, max: UByte, elements: UByteArray, selector: (UByte) -> K) {\\n        assertEquals(min, elements.minBy(selector))\\n        assertEquals(min, elements.minByOrNull(selector))\\n        assertEquals(max, elements.maxBy(selector))\\n        assertEquals(max, elements.maxByOrNull(selector))\\n    }\\n\\n    @Test\\n    fun minMaxBy() {\\n        expectMinMaxBy(1U, 1U, ubyteArrayOf(1U), { it })\\n        expectMinMaxBy(1U, 2U, ubyteArrayOf(1U, 2U), { it })\\n        expectMinMaxBy(1U, UByte.MAX_VALUE, ubyteArrayOf(1U, 2U, UByte.MAX_VALUE), { it })\\n\\n    }\\n\\n    @Test\\n    fun minMaxByEmpty() {\\n        val empty = ubyteArrayOf()\\n        assertNull(empty.minByOrNull { it.toString() })\\n        assertNull(empty.maxByOrNull { it.toString() })\\n        assertFailsWith<NoSuchElementException> { empty.minBy { it.toString() } }\\n        assertFailsWith<NoSuchElementException> { empty.maxBy { it.toString() } }                       \\n    }\\n\\n    @Test \\n    fun minBySelectorEvaluateOnce() {\\n        val source = ubyteArrayOf(1U, 2U, UByte.MAX_VALUE)\\n        var c = 0\\n        source.minBy { c++ }\\n        assertEquals(3, c)\\n        c = 0\\n        source.minByOrNull { c++ }\\n        assertEquals(3, c)\\n    }\\n\\n    @Test \\n    fun maxBySelectorEvaluateOnce() {\\n        val source = ubyteArrayOf(1U, 2U, UByte.MAX_VALUE)\\n        var c = 0\\n        source.maxBy { c++ }\\n        assertEquals(3, c)\\n        c = 0\\n        source.maxByOrNull { c++ }\\n        assertEquals(3, c)\\n    }\\n    \\n    \\n    private inline fun <R : Comparable<R>> expectMinMaxOf(min: R, max: R, elements: UByteArray, selector: (UByte) -> R) {\\n        assertEquals(min, elements.minOf(selector))\\n        assertEquals(min, elements.minOfOrNull(selector))\\n        assertEquals(max, elements.maxOf(selector))\\n        assertEquals(max, elements.maxOfOrNull(selector))\\n    }\\n    \\n    @Test\\n    fun minMaxOf() {\\n        expectMinMaxOf((0u - 1U).toUByte(), (0u - 1U).toUByte(), ubyteArrayOf(1U), { (0u - it).toUByte() })\\n        expectMinMaxOf((0u - 2U).toUByte(), (0u - 1U).toUByte(), ubyteArrayOf(1U, 2U), { (0u - it).toUByte() })\\n        expectMinMaxOf((0u - UByte.MAX_VALUE).toUByte(), (0u - 1U).toUByte(), ubyteArrayOf(1U, 2U, UByte.MAX_VALUE), { (0u - it).toUByte() })\\n\\n    }   \n",
       "1000011                                                                                                                                                                                                                    }\\n\\n\\n    private inline fun <K : Comparable<K>> expectMinMaxBy(min: UByte, max: UByte, elements: UByteArray, selector: (UByte) -> K) {\\n        assertEquals(min, elements.minBy(selector))\\n        assertEquals(min, elements.minByOrNull(selector))\\n        assertEquals(max, elements.maxBy(selector))\\n        assertEquals(max, elements.maxByOrNull(selector))\\n    }\\n\\n    @Test\\n    fun minMaxBy() {\\n        expectMinMaxBy(1U, 1U, ubyteArrayOf(1U), { it })\\n        expectMinMaxBy(1U, 2U, ubyteArrayOf(1U, 2U), { it })\\n        expectMinMaxBy(1U, UByte.MAX_VALUE, ubyteArrayOf(1U, 2U, UByte.MAX_VALUE), { it })\\n\\n    }\\n\\n    @Test\\n    fun minMaxByEmpty() {\\n        val empty = ubyteArrayOf()\\n        assertNull(empty.minByOrNull { it.toString() })\\n        assertNull(empty.maxByOrNull { it.toString() })\\n        assertFailsWith<NoSuchElementException> { empty.minBy { it.toString() } }\\n        assertFailsWith<NoSuchElementException> { empty.maxBy { it.toString() } }                       \\n    }\\n\\n    @Test \\n    fun minBySelectorEvaluateOnce() {\\n        val source = ubyteArrayOf(1U, 2U, UByte.MAX_VALUE)\\n        var c = 0\\n        source.minBy { c++ }\\n        assertEquals(3, c)\\n        c = 0\\n        source.minByOrNull { c++ }\\n        assertEquals(3, c)\\n    }\\n\\n    @Test \\n    fun maxBySelectorEvaluateOnce() {\\n        val source = ubyteArrayOf(1U, 2U, UByte.MAX_VALUE)\\n        var c = 0\\n        source.maxBy { c++ }\\n        assertEquals(3, c)\\n        c = 0\\n        source.maxByOrNull { c++ }\\n        assertEquals(3, c)\\n    }\\n    \\n    \\n    private inline fun <R : Comparable<R>> expectMinMaxOf(min: R, max: R, elements: UByteArray, selector: (UByte) -> R) {\\n        assertEquals(min, elements.minOf(selector))\\n        assertEquals(min, elements.minOfOrNull(selector))\\n        assertEquals(max, elements.maxOf(selector))\\n        assertEquals(max, elements.maxOfOrNull(selector))\\n    }\\n    \\n    @Test\\n    fun minMaxOf() {\\n        expectMinMaxOf((0u - 1U).toUByte(), (0u - 1U).toUByte(), ubyteArrayOf(1U), { (0u - it).toUByte() })\\n        expectMinMaxOf((0u - 2U).toUByte(), (0u - 1U).toUByte(), ubyteArrayOf(1U, 2U), { (0u - it).toUByte() })\\n        expectMinMaxOf((0u - UByte.MAX_VALUE).toUByte(), (0u - 1U).toUByte(), ubyteArrayOf(1U, 2U, UByte.MAX_VALUE), { (0u - it).toUByte() })\\n\\n    }   \n",
       "1000012                                                                                                                                                                                                              private inline fun <K : Comparable<K>> expectMinMaxBy(min: UByte, max: UByte, elements: UByteArray, selector: (UByte) -> K) {\\n        assertEquals(min, elements.minBy(selector))\\n        assertEquals(min, elements.minByOrNull(selector))\\n        assertEquals(max, elements.maxBy(selector))\\n        assertEquals(max, elements.maxByOrNull(selector))\\n    }\\n\\n    @Test\\n    fun minMaxBy() {\\n        expectMinMaxBy(1U, 1U, ubyteArrayOf(1U), { it })\\n        expectMinMaxBy(1U, 2U, ubyteArrayOf(1U, 2U), { it })\\n        expectMinMaxBy(1U, UByte.MAX_VALUE, ubyteArrayOf(1U, 2U, UByte.MAX_VALUE), { it })\\n\\n    }\\n\\n    @Test\\n    fun minMaxByEmpty() {\\n        val empty = ubyteArrayOf()\\n        assertNull(empty.minByOrNull { it.toString() })\\n        assertNull(empty.maxByOrNull { it.toString() })\\n        assertFailsWith<NoSuchElementException> { empty.minBy { it.toString() } }\\n        assertFailsWith<NoSuchElementException> { empty.maxBy { it.toString() } }                       \\n    }\\n\\n    @Test \\n    fun minBySelectorEvaluateOnce() {\\n        val source = ubyteArrayOf(1U, 2U, UByte.MAX_VALUE)\\n        var c = 0\\n        source.minBy { c++ }\\n        assertEquals(3, c)\\n        c = 0\\n        source.minByOrNull { c++ }\\n        assertEquals(3, c)\\n    }\\n\\n    @Test \\n    fun maxBySelectorEvaluateOnce() {\\n        val source = ubyteArrayOf(1U, 2U, UByte.MAX_VALUE)\\n        var c = 0\\n        source.maxBy { c++ }\\n        assertEquals(3, c)\\n        c = 0\\n        source.maxByOrNull { c++ }\\n        assertEquals(3, c)\\n    }\\n    \\n    \\n    private inline fun <R : Comparable<R>> expectMinMaxOf(min: R, max: R, elements: UByteArray, selector: (UByte) -> R) {\\n        assertEquals(min, elements.minOf(selector))\\n        assertEquals(min, elements.minOfOrNull(selector))\\n        assertEquals(max, elements.maxOf(selector))\\n        assertEquals(max, elements.maxOfOrNull(selector))\\n    }\\n    \\n    @Test\\n    fun minMaxOf() {\\n        expectMinMaxOf((0u - 1U).toUByte(), (0u - 1U).toUByte(), ubyteArrayOf(1U), { (0u - it).toUByte() })\\n        expectMinMaxOf((0u - 2U).toUByte(), (0u - 1U).toUByte(), ubyteArrayOf(1U, 2U), { (0u - it).toUByte() })\\n        expectMinMaxOf((0u - UByte.MAX_VALUE).toUByte(), (0u - 1U).toUByte(), ubyteArrayOf(1U, 2U, UByte.MAX_VALUE), { (0u - it).toUByte() })\\n\\n    }\\n    \\n    @Test   \n",
       "1000013                                                                                                                                                                                  private inline fun <K : Comparable<K>> expectMinMaxBy(min: UByte, max: UByte, elements: UByteArray, selector: (UByte) -> K) {\\n        assertEquals(min, elements.minBy(selector))\\n        assertEquals(min, elements.minByOrNull(selector))\\n        assertEquals(max, elements.maxBy(selector))\\n        assertEquals(max, elements.maxByOrNull(selector))\\n    }\\n\\n    @Test\\n    fun minMaxBy() {\\n        expectMinMaxBy(1U, 1U, ubyteArrayOf(1U), { it })\\n        expectMinMaxBy(1U, 2U, ubyteArrayOf(1U, 2U), { it })\\n        expectMinMaxBy(1U, UByte.MAX_VALUE, ubyteArrayOf(1U, 2U, UByte.MAX_VALUE), { it })\\n\\n    }\\n\\n    @Test\\n    fun minMaxByEmpty() {\\n        val empty = ubyteArrayOf()\\n        assertNull(empty.minByOrNull { it.toString() })\\n        assertNull(empty.maxByOrNull { it.toString() })\\n        assertFailsWith<NoSuchElementException> { empty.minBy { it.toString() } }\\n        assertFailsWith<NoSuchElementException> { empty.maxBy { it.toString() } }                       \\n    }\\n\\n    @Test \\n    fun minBySelectorEvaluateOnce() {\\n        val source = ubyteArrayOf(1U, 2U, UByte.MAX_VALUE)\\n        var c = 0\\n        source.minBy { c++ }\\n        assertEquals(3, c)\\n        c = 0\\n        source.minByOrNull { c++ }\\n        assertEquals(3, c)\\n    }\\n\\n    @Test \\n    fun maxBySelectorEvaluateOnce() {\\n        val source = ubyteArrayOf(1U, 2U, UByte.MAX_VALUE)\\n        var c = 0\\n        source.maxBy { c++ }\\n        assertEquals(3, c)\\n        c = 0\\n        source.maxByOrNull { c++ }\\n        assertEquals(3, c)\\n    }\\n    \\n    \\n    private inline fun <R : Comparable<R>> expectMinMaxOf(min: R, max: R, elements: UByteArray, selector: (UByte) -> R) {\\n        assertEquals(min, elements.minOf(selector))\\n        assertEquals(min, elements.minOfOrNull(selector))\\n        assertEquals(max, elements.maxOf(selector))\\n        assertEquals(max, elements.maxOfOrNull(selector))\\n    }\\n    \\n    @Test\\n    fun minMaxOf() {\\n        expectMinMaxOf((0u - 1U).toUByte(), (0u - 1U).toUByte(), ubyteArrayOf(1U), { (0u - it).toUByte() })\\n        expectMinMaxOf((0u - 2U).toUByte(), (0u - 1U).toUByte(), ubyteArrayOf(1U, 2U), { (0u - it).toUByte() })\\n        expectMinMaxOf((0u - UByte.MAX_VALUE).toUByte(), (0u - 1U).toUByte(), ubyteArrayOf(1U, 2U, UByte.MAX_VALUE), { (0u - it).toUByte() })\\n\\n    }\\n    \\n    @Test\\n    fun minMaxOfDouble() {   \n",
       "1000014                                                                                                                                                         private inline fun <K : Comparable<K>> expectMinMaxBy(min: UByte, max: UByte, elements: UByteArray, selector: (UByte) -> K) {\\n        assertEquals(min, elements.minBy(selector))\\n        assertEquals(min, elements.minByOrNull(selector))\\n        assertEquals(max, elements.maxBy(selector))\\n        assertEquals(max, elements.maxByOrNull(selector))\\n    }\\n\\n    @Test\\n    fun minMaxBy() {\\n        expectMinMaxBy(1U, 1U, ubyteArrayOf(1U), { it })\\n        expectMinMaxBy(1U, 2U, ubyteArrayOf(1U, 2U), { it })\\n        expectMinMaxBy(1U, UByte.MAX_VALUE, ubyteArrayOf(1U, 2U, UByte.MAX_VALUE), { it })\\n\\n    }\\n\\n    @Test\\n    fun minMaxByEmpty() {\\n        val empty = ubyteArrayOf()\\n        assertNull(empty.minByOrNull { it.toString() })\\n        assertNull(empty.maxByOrNull { it.toString() })\\n        assertFailsWith<NoSuchElementException> { empty.minBy { it.toString() } }\\n        assertFailsWith<NoSuchElementException> { empty.maxBy { it.toString() } }                       \\n    }\\n\\n    @Test \\n    fun minBySelectorEvaluateOnce() {\\n        val source = ubyteArrayOf(1U, 2U, UByte.MAX_VALUE)\\n        var c = 0\\n        source.minBy { c++ }\\n        assertEquals(3, c)\\n        c = 0\\n        source.minByOrNull { c++ }\\n        assertEquals(3, c)\\n    }\\n\\n    @Test \\n    fun maxBySelectorEvaluateOnce() {\\n        val source = ubyteArrayOf(1U, 2U, UByte.MAX_VALUE)\\n        var c = 0\\n        source.maxBy { c++ }\\n        assertEquals(3, c)\\n        c = 0\\n        source.maxByOrNull { c++ }\\n        assertEquals(3, c)\\n    }\\n    \\n    \\n    private inline fun <R : Comparable<R>> expectMinMaxOf(min: R, max: R, elements: UByteArray, selector: (UByte) -> R) {\\n        assertEquals(min, elements.minOf(selector))\\n        assertEquals(min, elements.minOfOrNull(selector))\\n        assertEquals(max, elements.maxOf(selector))\\n        assertEquals(max, elements.maxOfOrNull(selector))\\n    }\\n    \\n    @Test\\n    fun minMaxOf() {\\n        expectMinMaxOf((0u - 1U).toUByte(), (0u - 1U).toUByte(), ubyteArrayOf(1U), { (0u - it).toUByte() })\\n        expectMinMaxOf((0u - 2U).toUByte(), (0u - 1U).toUByte(), ubyteArrayOf(1U, 2U), { (0u - it).toUByte() })\\n        expectMinMaxOf((0u - UByte.MAX_VALUE).toUByte(), (0u - 1U).toUByte(), ubyteArrayOf(1U, 2U, UByte.MAX_VALUE), { (0u - it).toUByte() })\\n\\n    }\\n    \\n    @Test\\n    fun minMaxOfDouble() {\\n        val middle = 2U   \n",
       "1000015                                                                                                                                                                                                                 assertEquals(min, elements.minBy(selector))\\n        assertEquals(min, elements.minByOrNull(selector))\\n        assertEquals(max, elements.maxBy(selector))\\n        assertEquals(max, elements.maxByOrNull(selector))\\n    }\\n\\n    @Test\\n    fun minMaxBy() {\\n        expectMinMaxBy(1U, 1U, ubyteArrayOf(1U), { it })\\n        expectMinMaxBy(1U, 2U, ubyteArrayOf(1U, 2U), { it })\\n        expectMinMaxBy(1U, UByte.MAX_VALUE, ubyteArrayOf(1U, 2U, UByte.MAX_VALUE), { it })\\n\\n    }\\n\\n    @Test\\n    fun minMaxByEmpty() {\\n        val empty = ubyteArrayOf()\\n        assertNull(empty.minByOrNull { it.toString() })\\n        assertNull(empty.maxByOrNull { it.toString() })\\n        assertFailsWith<NoSuchElementException> { empty.minBy { it.toString() } }\\n        assertFailsWith<NoSuchElementException> { empty.maxBy { it.toString() } }                       \\n    }\\n\\n    @Test \\n    fun minBySelectorEvaluateOnce() {\\n        val source = ubyteArrayOf(1U, 2U, UByte.MAX_VALUE)\\n        var c = 0\\n        source.minBy { c++ }\\n        assertEquals(3, c)\\n        c = 0\\n        source.minByOrNull { c++ }\\n        assertEquals(3, c)\\n    }\\n\\n    @Test \\n    fun maxBySelectorEvaluateOnce() {\\n        val source = ubyteArrayOf(1U, 2U, UByte.MAX_VALUE)\\n        var c = 0\\n        source.maxBy { c++ }\\n        assertEquals(3, c)\\n        c = 0\\n        source.maxByOrNull { c++ }\\n        assertEquals(3, c)\\n    }\\n    \\n    \\n    private inline fun <R : Comparable<R>> expectMinMaxOf(min: R, max: R, elements: UByteArray, selector: (UByte) -> R) {\\n        assertEquals(min, elements.minOf(selector))\\n        assertEquals(min, elements.minOfOrNull(selector))\\n        assertEquals(max, elements.maxOf(selector))\\n        assertEquals(max, elements.maxOfOrNull(selector))\\n    }\\n    \\n    @Test\\n    fun minMaxOf() {\\n        expectMinMaxOf((0u - 1U).toUByte(), (0u - 1U).toUByte(), ubyteArrayOf(1U), { (0u - it).toUByte() })\\n        expectMinMaxOf((0u - 2U).toUByte(), (0u - 1U).toUByte(), ubyteArrayOf(1U, 2U), { (0u - it).toUByte() })\\n        expectMinMaxOf((0u - UByte.MAX_VALUE).toUByte(), (0u - 1U).toUByte(), ubyteArrayOf(1U, 2U, UByte.MAX_VALUE), { (0u - it).toUByte() })\\n\\n    }\\n    \\n    @Test\\n    fun minMaxOfDouble() {\\n        val middle = 2U\\n        val items = ubyteArrayOf(1U, 2U, UByte.MAX_VALUE).apply { shuffle() }   \n",
       "1000016                                                                                                                                                                                assertEquals(min, elements.minByOrNull(selector))\\n        assertEquals(max, elements.maxBy(selector))\\n        assertEquals(max, elements.maxByOrNull(selector))\\n    }\\n\\n    @Test\\n    fun minMaxBy() {\\n        expectMinMaxBy(1U, 1U, ubyteArrayOf(1U), { it })\\n        expectMinMaxBy(1U, 2U, ubyteArrayOf(1U, 2U), { it })\\n        expectMinMaxBy(1U, UByte.MAX_VALUE, ubyteArrayOf(1U, 2U, UByte.MAX_VALUE), { it })\\n\\n    }\\n\\n    @Test\\n    fun minMaxByEmpty() {\\n        val empty = ubyteArrayOf()\\n        assertNull(empty.minByOrNull { it.toString() })\\n        assertNull(empty.maxByOrNull { it.toString() })\\n        assertFailsWith<NoSuchElementException> { empty.minBy { it.toString() } }\\n        assertFailsWith<NoSuchElementException> { empty.maxBy { it.toString() } }                       \\n    }\\n\\n    @Test \\n    fun minBySelectorEvaluateOnce() {\\n        val source = ubyteArrayOf(1U, 2U, UByte.MAX_VALUE)\\n        var c = 0\\n        source.minBy { c++ }\\n        assertEquals(3, c)\\n        c = 0\\n        source.minByOrNull { c++ }\\n        assertEquals(3, c)\\n    }\\n\\n    @Test \\n    fun maxBySelectorEvaluateOnce() {\\n        val source = ubyteArrayOf(1U, 2U, UByte.MAX_VALUE)\\n        var c = 0\\n        source.maxBy { c++ }\\n        assertEquals(3, c)\\n        c = 0\\n        source.maxByOrNull { c++ }\\n        assertEquals(3, c)\\n    }\\n    \\n    \\n    private inline fun <R : Comparable<R>> expectMinMaxOf(min: R, max: R, elements: UByteArray, selector: (UByte) -> R) {\\n        assertEquals(min, elements.minOf(selector))\\n        assertEquals(min, elements.minOfOrNull(selector))\\n        assertEquals(max, elements.maxOf(selector))\\n        assertEquals(max, elements.maxOfOrNull(selector))\\n    }\\n    \\n    @Test\\n    fun minMaxOf() {\\n        expectMinMaxOf((0u - 1U).toUByte(), (0u - 1U).toUByte(), ubyteArrayOf(1U), { (0u - it).toUByte() })\\n        expectMinMaxOf((0u - 2U).toUByte(), (0u - 1U).toUByte(), ubyteArrayOf(1U, 2U), { (0u - it).toUByte() })\\n        expectMinMaxOf((0u - UByte.MAX_VALUE).toUByte(), (0u - 1U).toUByte(), ubyteArrayOf(1U, 2U, UByte.MAX_VALUE), { (0u - it).toUByte() })\\n\\n    }\\n    \\n    @Test\\n    fun minMaxOfDouble() {\\n        val middle = 2U\\n        val items = ubyteArrayOf(1U, 2U, UByte.MAX_VALUE).apply { shuffle() }\\n        assertTrue(items.minOf { it.compareTo(middle).toDouble().pow(0.5) }.isNaN())   \n",
       "1000017                                                                                                                                             assertEquals(max, elements.maxBy(selector))\\n        assertEquals(max, elements.maxByOrNull(selector))\\n    }\\n\\n    @Test\\n    fun minMaxBy() {\\n        expectMinMaxBy(1U, 1U, ubyteArrayOf(1U), { it })\\n        expectMinMaxBy(1U, 2U, ubyteArrayOf(1U, 2U), { it })\\n        expectMinMaxBy(1U, UByte.MAX_VALUE, ubyteArrayOf(1U, 2U, UByte.MAX_VALUE), { it })\\n\\n    }\\n\\n    @Test\\n    fun minMaxByEmpty() {\\n        val empty = ubyteArrayOf()\\n        assertNull(empty.minByOrNull { it.toString() })\\n        assertNull(empty.maxByOrNull { it.toString() })\\n        assertFailsWith<NoSuchElementException> { empty.minBy { it.toString() } }\\n        assertFailsWith<NoSuchElementException> { empty.maxBy { it.toString() } }                       \\n    }\\n\\n    @Test \\n    fun minBySelectorEvaluateOnce() {\\n        val source = ubyteArrayOf(1U, 2U, UByte.MAX_VALUE)\\n        var c = 0\\n        source.minBy { c++ }\\n        assertEquals(3, c)\\n        c = 0\\n        source.minByOrNull { c++ }\\n        assertEquals(3, c)\\n    }\\n\\n    @Test \\n    fun maxBySelectorEvaluateOnce() {\\n        val source = ubyteArrayOf(1U, 2U, UByte.MAX_VALUE)\\n        var c = 0\\n        source.maxBy { c++ }\\n        assertEquals(3, c)\\n        c = 0\\n        source.maxByOrNull { c++ }\\n        assertEquals(3, c)\\n    }\\n    \\n    \\n    private inline fun <R : Comparable<R>> expectMinMaxOf(min: R, max: R, elements: UByteArray, selector: (UByte) -> R) {\\n        assertEquals(min, elements.minOf(selector))\\n        assertEquals(min, elements.minOfOrNull(selector))\\n        assertEquals(max, elements.maxOf(selector))\\n        assertEquals(max, elements.maxOfOrNull(selector))\\n    }\\n    \\n    @Test\\n    fun minMaxOf() {\\n        expectMinMaxOf((0u - 1U).toUByte(), (0u - 1U).toUByte(), ubyteArrayOf(1U), { (0u - it).toUByte() })\\n        expectMinMaxOf((0u - 2U).toUByte(), (0u - 1U).toUByte(), ubyteArrayOf(1U, 2U), { (0u - it).toUByte() })\\n        expectMinMaxOf((0u - UByte.MAX_VALUE).toUByte(), (0u - 1U).toUByte(), ubyteArrayOf(1U, 2U, UByte.MAX_VALUE), { (0u - it).toUByte() })\\n\\n    }\\n    \\n    @Test\\n    fun minMaxOfDouble() {\\n        val middle = 2U\\n        val items = ubyteArrayOf(1U, 2U, UByte.MAX_VALUE).apply { shuffle() }\\n        assertTrue(items.minOf { it.compareTo(middle).toDouble().pow(0.5) }.isNaN())\\n        assertTrue(items.minOfOrNull { it.compareTo(middle).toDouble().pow(0.5) }!!.isNaN())   \n",
       "1000018                                                                                                            assertEquals(max, elements.maxByOrNull(selector))\\n    }\\n\\n    @Test\\n    fun minMaxBy() {\\n        expectMinMaxBy(1U, 1U, ubyteArrayOf(1U), { it })\\n        expectMinMaxBy(1U, 2U, ubyteArrayOf(1U, 2U), { it })\\n        expectMinMaxBy(1U, UByte.MAX_VALUE, ubyteArrayOf(1U, 2U, UByte.MAX_VALUE), { it })\\n\\n    }\\n\\n    @Test\\n    fun minMaxByEmpty() {\\n        val empty = ubyteArrayOf()\\n        assertNull(empty.minByOrNull { it.toString() })\\n        assertNull(empty.maxByOrNull { it.toString() })\\n        assertFailsWith<NoSuchElementException> { empty.minBy { it.toString() } }\\n        assertFailsWith<NoSuchElementException> { empty.maxBy { it.toString() } }                       \\n    }\\n\\n    @Test \\n    fun minBySelectorEvaluateOnce() {\\n        val source = ubyteArrayOf(1U, 2U, UByte.MAX_VALUE)\\n        var c = 0\\n        source.minBy { c++ }\\n        assertEquals(3, c)\\n        c = 0\\n        source.minByOrNull { c++ }\\n        assertEquals(3, c)\\n    }\\n\\n    @Test \\n    fun maxBySelectorEvaluateOnce() {\\n        val source = ubyteArrayOf(1U, 2U, UByte.MAX_VALUE)\\n        var c = 0\\n        source.maxBy { c++ }\\n        assertEquals(3, c)\\n        c = 0\\n        source.maxByOrNull { c++ }\\n        assertEquals(3, c)\\n    }\\n    \\n    \\n    private inline fun <R : Comparable<R>> expectMinMaxOf(min: R, max: R, elements: UByteArray, selector: (UByte) -> R) {\\n        assertEquals(min, elements.minOf(selector))\\n        assertEquals(min, elements.minOfOrNull(selector))\\n        assertEquals(max, elements.maxOf(selector))\\n        assertEquals(max, elements.maxOfOrNull(selector))\\n    }\\n    \\n    @Test\\n    fun minMaxOf() {\\n        expectMinMaxOf((0u - 1U).toUByte(), (0u - 1U).toUByte(), ubyteArrayOf(1U), { (0u - it).toUByte() })\\n        expectMinMaxOf((0u - 2U).toUByte(), (0u - 1U).toUByte(), ubyteArrayOf(1U, 2U), { (0u - it).toUByte() })\\n        expectMinMaxOf((0u - UByte.MAX_VALUE).toUByte(), (0u - 1U).toUByte(), ubyteArrayOf(1U, 2U, UByte.MAX_VALUE), { (0u - it).toUByte() })\\n\\n    }\\n    \\n    @Test\\n    fun minMaxOfDouble() {\\n        val middle = 2U\\n        val items = ubyteArrayOf(1U, 2U, UByte.MAX_VALUE).apply { shuffle() }\\n        assertTrue(items.minOf { it.compareTo(middle).toDouble().pow(0.5) }.isNaN())\\n        assertTrue(items.minOfOrNull { it.compareTo(middle).toDouble().pow(0.5) }!!.isNaN())\\n        assertTrue(items.maxOf { it.compareTo(middle).toDouble().pow(0.5) }.isNaN())   \n",
       "1000019                                                                     }\\n\\n    @Test\\n    fun minMaxBy() {\\n        expectMinMaxBy(1U, 1U, ubyteArrayOf(1U), { it })\\n        expectMinMaxBy(1U, 2U, ubyteArrayOf(1U, 2U), { it })\\n        expectMinMaxBy(1U, UByte.MAX_VALUE, ubyteArrayOf(1U, 2U, UByte.MAX_VALUE), { it })\\n\\n    }\\n\\n    @Test\\n    fun minMaxByEmpty() {\\n        val empty = ubyteArrayOf()\\n        assertNull(empty.minByOrNull { it.toString() })\\n        assertNull(empty.maxByOrNull { it.toString() })\\n        assertFailsWith<NoSuchElementException> { empty.minBy { it.toString() } }\\n        assertFailsWith<NoSuchElementException> { empty.maxBy { it.toString() } }                       \\n    }\\n\\n    @Test \\n    fun minBySelectorEvaluateOnce() {\\n        val source = ubyteArrayOf(1U, 2U, UByte.MAX_VALUE)\\n        var c = 0\\n        source.minBy { c++ }\\n        assertEquals(3, c)\\n        c = 0\\n        source.minByOrNull { c++ }\\n        assertEquals(3, c)\\n    }\\n\\n    @Test \\n    fun maxBySelectorEvaluateOnce() {\\n        val source = ubyteArrayOf(1U, 2U, UByte.MAX_VALUE)\\n        var c = 0\\n        source.maxBy { c++ }\\n        assertEquals(3, c)\\n        c = 0\\n        source.maxByOrNull { c++ }\\n        assertEquals(3, c)\\n    }\\n    \\n    \\n    private inline fun <R : Comparable<R>> expectMinMaxOf(min: R, max: R, elements: UByteArray, selector: (UByte) -> R) {\\n        assertEquals(min, elements.minOf(selector))\\n        assertEquals(min, elements.minOfOrNull(selector))\\n        assertEquals(max, elements.maxOf(selector))\\n        assertEquals(max, elements.maxOfOrNull(selector))\\n    }\\n    \\n    @Test\\n    fun minMaxOf() {\\n        expectMinMaxOf((0u - 1U).toUByte(), (0u - 1U).toUByte(), ubyteArrayOf(1U), { (0u - it).toUByte() })\\n        expectMinMaxOf((0u - 2U).toUByte(), (0u - 1U).toUByte(), ubyteArrayOf(1U, 2U), { (0u - it).toUByte() })\\n        expectMinMaxOf((0u - UByte.MAX_VALUE).toUByte(), (0u - 1U).toUByte(), ubyteArrayOf(1U, 2U, UByte.MAX_VALUE), { (0u - it).toUByte() })\\n\\n    }\\n    \\n    @Test\\n    fun minMaxOfDouble() {\\n        val middle = 2U\\n        val items = ubyteArrayOf(1U, 2U, UByte.MAX_VALUE).apply { shuffle() }\\n        assertTrue(items.minOf { it.compareTo(middle).toDouble().pow(0.5) }.isNaN())\\n        assertTrue(items.minOfOrNull { it.compareTo(middle).toDouble().pow(0.5) }!!.isNaN())\\n        assertTrue(items.maxOf { it.compareTo(middle).toDouble().pow(0.5) }.isNaN())\\n        assertTrue(items.maxOfOrNull { it.compareTo(middle).toDouble().pow(0.5) }!!.isNaN())   \n",
       "\n",
       "                                                                                                                                    Completion  \n",
       "999999                                                                                             assertEquals(max, elements.maxOf(selector))  \n",
       "1000000                                                                                      assertEquals(max, elements.maxOfOrNull(selector))  \n",
       "1000001                                                                                                                                      }  \n",
       "1000002                                                                                                                                    NaN  \n",
       "1000003                                                                                                                                  @Test  \n",
       "1000004                                                                                                                       fun minMaxOf() {  \n",
       "1000005                                    expectMinMaxOf((0u - 1U).toUByte(), (0u - 1U).toUByte(), ubyteArrayOf(1U), { (0u - it).toUByte() })  \n",
       "1000006                                expectMinMaxOf((0u - 2U).toUByte(), (0u - 1U).toUByte(), ubyteArrayOf(1U, 2U), { (0u - it).toUByte() })  \n",
       "1000007  expectMinMaxOf((0u - UByte.MAX_VALUE).toUByte(), (0u - 1U).toUByte(), ubyteArrayOf(1U, 2U, UByte.MAX_VALUE), { (0u - it).toUByte() })  \n",
       "1000008                                                                                                                                    NaN  \n",
       "1000009                                                                                                                                      }  \n",
       "1000010                                                                                                                                    NaN  \n",
       "1000011                                                                                                                                  @Test  \n",
       "1000012                                                                                                                 fun minMaxOfDouble() {  \n",
       "1000013                                                                                                                        val middle = 2U  \n",
       "1000014                                                                  val items = ubyteArrayOf(1U, 2U, UByte.MAX_VALUE).apply { shuffle() }  \n",
       "1000015                                                           assertTrue(items.minOf { it.compareTo(middle).toDouble().pow(0.5) }.isNaN())  \n",
       "1000016                                                   assertTrue(items.minOfOrNull { it.compareTo(middle).toDouble().pow(0.5) }!!.isNaN())  \n",
       "1000017                                                           assertTrue(items.maxOf { it.compareTo(middle).toDouble().pow(0.5) }.isNaN())  \n",
       "1000018                                                   assertTrue(items.maxOfOrNull { it.compareTo(middle).toDouble().pow(0.5) }!!.isNaN())  \n",
       "1000019                                                                                                                                    NaN  "
      ]
     },
     "execution_count": 9,
     "metadata": {},
     "output_type": "execute_result"
    }
   ],
   "source": [
    "df[999999:1000020]"
   ]
  },
  {
   "cell_type": "code",
   "execution_count": 39,
   "id": "28ecc834-fa95-4065-802e-f91d17518fb3",
   "metadata": {},
   "outputs": [],
   "source": [
    "random_sample = df.sample(n=500, random_state=42)  # Set random_state for reproducibility\n",
    "\n",
    "# Save the random sample to a separate CSV file (replace 'random_sample.csv' with your desired filename)\n",
    "random_sample.to_csv('test_sample_500.csv', index=False)"
   ]
  },
  {
   "cell_type": "code",
   "execution_count": 11,
   "id": "3c45fc8f-c22d-4400-8971-b1bb63ffaa0f",
   "metadata": {},
   "outputs": [
    {
     "data": {
      "text/plain": [
       "Context         1004\n",
       "Completion    483566\n",
       "dtype: int64"
      ]
     },
     "execution_count": 11,
     "metadata": {},
     "output_type": "execute_result"
    }
   ],
   "source": [
    "df.isna().sum()"
   ]
  },
  {
   "cell_type": "code",
   "execution_count": 12,
   "id": "e61c21fd-565a-485c-accd-5809433291d5",
   "metadata": {},
   "outputs": [
    {
     "data": {
      "text/plain": [
       "2918926"
      ]
     },
     "execution_count": 12,
     "metadata": {},
     "output_type": "execute_result"
    }
   ],
   "source": [
    "len(df)"
   ]
  },
  {
   "cell_type": "code",
   "execution_count": 41,
   "id": "09b61728-99d3-479c-a2d3-22a369e74311",
   "metadata": {},
   "outputs": [
    {
     "data": {
      "text/plain": [
       "[1, 2, 3]"
      ]
     },
     "execution_count": 41,
     "metadata": {},
     "output_type": "execute_result"
    }
   ],
   "source": [
    " a = [1, 2, 3, 4, 5]\n",
    "a[:3]"
   ]
  },
  {
   "cell_type": "code",
   "execution_count": 13,
   "id": "9d44c736-41bb-4935-abb8-476a1539d7ea",
   "metadata": {},
   "outputs": [],
   "source": [
    "df = df.dropna()"
   ]
  },
  {
   "cell_type": "code",
   "execution_count": null,
   "id": "f009402e-d61a-44cf-a248-045c223befad",
   "metadata": {},
   "outputs": [],
   "source": [
    "import pandas as pd\n",
    "\n",
    "# Load your dataset\n",
    "df = pd.read_csv('/mnt/data/random_sample.csv')\n",
    "\n",
    "# Drop rows where any of the columns are None\n",
    "\n",
    "\n",
    "# Remove rows where the 'Completion' column is too short or just comments\n",
    "df = df[~df['Completion'].str.strip().str.startswith('*')]  # Assumes that comments start with '*'\n",
    "df = df[df['Completion'].str.strip().apply(len) > 2]  # Keeps completions longer than 2 characters\n",
    "\n",
    "# Save the cleaned data\n",
    "df.to_csv('/mnt/data/cleaned_dataset.csv', index=False)\n"
   ]
  },
  {
   "cell_type": "code",
   "execution_count": 14,
   "id": "a29784aa-5dcc-4a1a-8f50-56268c576765",
   "metadata": {},
   "outputs": [
    {
     "data": {
      "text/plain": [
       "2434428"
      ]
     },
     "execution_count": 14,
     "metadata": {},
     "output_type": "execute_result"
    }
   ],
   "source": [
    "len(df)"
   ]
  },
  {
   "cell_type": "code",
   "execution_count": 28,
   "id": "bcf65583-9389-46f3-bd79-aee527a5c1c8",
   "metadata": {},
   "outputs": [],
   "source": [
    "df = df[df['Completion'].str.strip().apply(len) > 3]"
   ]
  },
  {
   "cell_type": "code",
   "execution_count": 18,
   "id": "c617be08-a8e9-4d51-9fbb-31187a9ad2a0",
   "metadata": {},
   "outputs": [
    {
     "data": {
      "text/plain": [
       "1997987"
      ]
     },
     "execution_count": 18,
     "metadata": {},
     "output_type": "execute_result"
    }
   ],
   "source": [
    "len(df)"
   ]
  },
  {
   "cell_type": "code",
   "execution_count": 20,
   "id": "f812df4f-9818-4396-b229-3edf8c85ada5",
   "metadata": {},
   "outputs": [],
   "source": [
    "df = df[~df['Completion'].str.strip().str.startswith('//')]\n",
    "df['Completion'] = df['Completion'].apply(lambda x: x.strip())  # Trim whitespace"
   ]
  },
  {
   "cell_type": "code",
   "execution_count": 29,
   "id": "f52cd798-32be-4edb-9569-460f62b64439",
   "metadata": {},
   "outputs": [
    {
     "data": {
      "text/plain": [
       "1804468"
      ]
     },
     "execution_count": 29,
     "metadata": {},
     "output_type": "execute_result"
    }
   ],
   "source": [
    "len(df)"
   ]
  },
  {
   "cell_type": "code",
   "execution_count": 26,
   "id": "b9be2fc1-2c9c-44b8-b336-7ce34800c8f7",
   "metadata": {},
   "outputs": [
    {
     "data": {
      "text/plain": [
       "Context       0\n",
       "Completion    0\n",
       "dtype: int64"
      ]
     },
     "execution_count": 26,
     "metadata": {},
     "output_type": "execute_result"
    }
   ],
   "source": [
    "df.isna().sum()"
   ]
  },
  {
   "cell_type": "code",
   "execution_count": 27,
   "id": "7d8f66a2-1d30-4bdd-9838-c2674d846298",
   "metadata": {},
   "outputs": [
    {
     "data": {
      "text/plain": [
       "1840613"
      ]
     },
     "execution_count": 27,
     "metadata": {},
     "output_type": "execute_result"
    }
   ],
   "source": [
    "df = df[~df['Completion'].str.contains(r'\\d{4,}', regex=True)]\n",
    "len(df)"
   ]
  },
  {
   "cell_type": "code",
   "execution_count": 30,
   "id": "f97cf504-4ded-4f54-8a03-f083857f0a79",
   "metadata": {},
   "outputs": [
    {
     "data": {
      "text/plain": [
       "1673799"
      ]
     },
     "execution_count": 30,
     "metadata": {},
     "output_type": "execute_result"
    }
   ],
   "source": [
    "df = df[~df['Completion'].str.contains(r'^\\*+|\\*+$', regex=True)]  # Removes leading/trailing '*'\n",
    "len(df)"
   ]
  },
  {
   "cell_type": "code",
   "execution_count": 32,
   "id": "6a5fef2b-f06c-4a51-b62e-fa9fd60b313c",
   "metadata": {},
   "outputs": [],
   "source": [
    "random_sample = df.sample(n=550, random_state=42)  # Set random_state for reproducibility\n",
    "\n",
    "# Save the random sample to a separate CSV file (replace 'random_sample.csv' with your desired filename)\n",
    "random_sample.to_csv('random_sample.csv', index=False)"
   ]
  },
  {
   "cell_type": "code",
   "execution_count": 35,
   "id": "26845d88-3c7e-4c14-9903-6c54031f77b8",
   "metadata": {},
   "outputs": [
    {
     "name": "stdout",
     "output_type": "stream",
     "text": [
      "300\n",
      "                                                              signature  \\\n",
      "0                                                    def push_tag(tag):   \n",
      "1                                                   def is_committed():   \n",
      "2                                                     def confirm(tag):   \n",
      "3                                               def bump(self, target):   \n",
      "4                                                      def clone(self):   \n",
      "..                                                                  ...   \n",
      "295  def all(self, store_id, product_id, get_all=False, **queryparams):   \n",
      "296                 def delete(self, store_id, product_id, variant_id):   \n",
      "297                                def __init__(self, *args, **kwargs):   \n",
      "298           def update(self, store_id, product_id, variant_id, data):   \n",
      "299                                def __init__(self, *args, **kwargs):   \n",
      "\n",
      "                                                                                                                                                                                                                                                                                                                                                                                                                                                   body  \\\n",
      "0                                                                                                                                                                                                                                                                                                                                                                                                                    _call('<STR_LIT>' + str(tag))<EOL>   \n",
      "1                                                                                                                                                                                                                                                                                                                                                                                                         return '<STR_LIT>' in _call('<STR_LIT>')<EOL>   \n",
      "2    click.echo()<EOL>if click.confirm('<STR_LIT>'.format(<EOL>tag=click.style(str(tag), fg='<STR_LIT>')),<EOL>default=True, abort=True):<EOL><INDENT>git.create_tag(tag)<EOL><DEDENT>if click.confirm(<EOL>'<STR_LIT>'.format(<EOL>tag=click.style(str(tag), fg='<STR_LIT>')),<EOL>default=True):<EOL><INDENT>git.push_tag(tag)<EOL>click.echo('<STR_LIT>')<EOL><DEDENT>else:<EOL><INDENT>git.delete_tag(tag)<EOL>click.echo('<STR_LIT>')<EOL><DEDENT>   \n",
      "3                                                                  if target == '<STR_LIT>':<EOL><INDENT>return Version(self.major, self.minor, self.patch + <NUM_LIT:1>)<EOL><DEDENT>if target == '<STR_LIT>':<EOL><INDENT>return Version(self.major, self.minor + <NUM_LIT:1>, <NUM_LIT:0>)<EOL><DEDENT>if target == '<STR_LIT>':<EOL><INDENT>return Version(self.major + <NUM_LIT:1>, <NUM_LIT:0>, <NUM_LIT:0>)<EOL><DEDENT>return self.clone()<EOL>   \n",
      "4                                                                                                                                                                                                                                                                        t = Tag(self.version.major, self.version.minor, self.version.patch)<EOL>if self.revision is not None:<EOL><INDENT>t.revision = self.revision.clone()<EOL><DEDENT>return t<EOL>   \n",
      "..                                                                                                                                                                                                                                                                                                                                                                                                                                                  ...   \n",
      "295                                                self.store_id = store_id<EOL>self.product_id = product_id<EOL>self.variant_id = None<EOL>if get_all:<EOL><INDENT>return self._iterate(url=self._build_path(store_id, '<STR_LIT>', product_id, '<STR_LIT>'), **queryparams)<EOL><DEDENT>else:<EOL><INDENT>return self._mc_client._get(<EOL>url=self._build_path(store_id, '<STR_LIT>', product_id, '<STR_LIT>'),<EOL>**queryparams<EOL>)<EOL><DEDENT>   \n",
      "296                                                                                                                                                                                                                                self.store_id = store_id<EOL>self.product_id = product_id<EOL>self.variant_id = variant_id<EOL>return self._mc_client._delete(url=self._build_path(store_id, '<STR_LIT>', product_id, '<STR_LIT>', variant_id))<EOL>   \n",
      "297                                                                                                                                                                                                                                                                     super(StoreProductVariants, self).__init__(*args, **kwargs)<EOL>self.endpoint = '<STR_LIT>'<EOL>self.store_id = None<EOL>self.product_id = None<EOL>self.variant_id = None<EOL>   \n",
      "298                                                                                                                                                                                                        self.store_id = store_id<EOL>self.product_id = product_id<EOL>self.variant_id = variant_id<EOL>return self._mc_client._patch(<EOL>url=self._build_path(store_id, '<STR_LIT>', product_id, '<STR_LIT>', variant_id),<EOL>data=data<EOL>)<EOL>   \n",
      "299                                                                                                                                                                                                                                                                                                                                                                    super(Root, self).__init__(*args, **kwargs)<EOL>self.endpoint = '<STR_LIT>'<EOL>   \n",
      "\n",
      "                                                                                                                                                                                                                                                                                                                                                                                                                                                                         docstring  \\\n",
      "0                                                                                                                                                                                                                                                                                                                                                                                                                                                   Pushes a tag into the upstream   \n",
      "1                                                                                                                                                                                                                                                                                                                                                                                                                         Returns True if repository is committed, otherwise False   \n",
      "2                                                                                                                                                                                                                                                                                                                                                                                                                                                   Prompts user before proceeding   \n",
      "3                                                                                                                                                                                                                                                                                                                                                                                               Bumps the Version given a target\\n\\nThe target can be either MAJOR, MINOR or PATCH   \n",
      "4                                                                                                                                                                                                                                                                                                                                                                                                                                                    Returns a copy of this object   \n",
      "..                                                                                                                                                                                                                                                                                                                                                                                                                                                                             ...   \n",
      "295  Get information about a product’s variants.\\n\\n:param store_id: The store id.\\n:type store_id: :py:class:`str`\\n:param product_id: The id for the product of a store.\\n:type product_id: :py:class:`str`\\n:param get_all: Should the query get all results\\n:type get_all: :py:class:`bool`\\n:param queryparams: The query string parameters\\nqueryparams['fields'] = []\\nqueryparams['exclude_fields'] = []\\nqueryparams['count'] = integer\\nqueryparams['offset'] = integer   \n",
      "296                                                                                                                                                                                                  Delete a product variant.\\n\\n:param store_id: The store id.\\n:type store_id: :py:class:`str`\\n:param product_id: The id for the product of a store.\\n:type product_id: :py:class:`str`\\n:param variant_id: The id for the product variant.\\n:type variant_id: :py:class:`str`   \n",
      "297                                                                                                                                                                                                                                                                                                                                                                                                                                                        Initialize the endpoint   \n",
      "298                                                                                                                          Update a product variant.\\n\\n:param store_id: The store id.\\n:type store_id: :py:class:`str`\\n:param product_id: The id for the product of a store.\\n:type product_id: :py:class:`str`\\n:param variant_id: The id for the product variant.\\n:type variant_id: :py:class:`str`\\n:param data: The request body parameters\\n:type data: :py:class:`dict`   \n",
      "299                                                                                                                                                                                                                                                                                                                                                                                                                                                        Initialize the endpoint   \n",
      "\n",
      "             id  \n",
      "0         f1:m7  \n",
      "1         f1:m3  \n",
      "2         f2:m3  \n",
      "3      f3:c0:m5  \n",
      "4      f3:c2:m4  \n",
      "..          ...  \n",
      "295  f310:c0:m2  \n",
      "296  f310:c0:m6  \n",
      "297  f310:c0:m0  \n",
      "298  f310:c0:m4  \n",
      "299  f311:c0:m0  \n",
      "\n",
      "[300 rows x 4 columns]\n"
     ]
    }
   ],
   "source": [
    "data_py = pd.read_csv('/Users/maxim/Desktop/Codes/Shizuku_a_kotlin_repo/dev.csv')\n",
    "print(len(data_py))\n",
    "print(data_py)"
   ]
  }
 ],
 "metadata": {
  "kernelspec": {
   "display_name": "Python 3 (ipykernel)",
   "language": "python",
   "name": "python3"
  },
  "language_info": {
   "codemirror_mode": {
    "name": "ipython",
    "version": 3
   },
   "file_extension": ".py",
   "mimetype": "text/x-python",
   "name": "python",
   "nbconvert_exporter": "python",
   "pygments_lexer": "ipython3",
   "version": "3.12.3"
  }
 },
 "nbformat": 4,
 "nbformat_minor": 5
}
